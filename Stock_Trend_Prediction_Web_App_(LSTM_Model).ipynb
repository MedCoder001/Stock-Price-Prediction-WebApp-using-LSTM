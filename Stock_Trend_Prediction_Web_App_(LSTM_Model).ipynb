{
  "cells": [
    {
      "cell_type": "markdown",
      "metadata": {},
      "source": [
        "# Stock Price Prediction using LSTM\n",
        "Dataset was collected from Yahoo Finance and the goal is to predict the closing price of the stock for the next trading day using a Long Short Term Memory (LSTM) model."
      ]
    },
    {
      "cell_type": "code",
      "execution_count": 2,
      "metadata": {
        "id": "tMfOri72Mk5B"
      },
      "outputs": [],
      "source": [
        "import numpy as np\n",
        "import pandas as pd\n",
        "import matplotlib.pyplot as plt\n",
        "import pandas_datareader as data\n",
        "\n",
        "import yfinance as yf"
      ]
    },
    {
      "cell_type": "code",
      "execution_count": 3,
      "metadata": {
        "colab": {
          "base_uri": "https://localhost:8080/"
        },
        "id": "UdoMQAeAUkFL",
        "outputId": "01f84d52-e05a-4e1a-bbf9-eb6078d37f8a"
      },
      "outputs": [
        {
          "name": "stderr",
          "output_type": "stream",
          "text": [
            "[*********************100%%**********************]  1 of 1 completed\n"
          ]
        }
      ],
      "source": [
        "start = '2012-01-01'\n",
        "end = '2024-03-01'\n",
        "\n",
        "df = yf.download('AAPL', start=start, end=end)"
      ]
    },
    {
      "cell_type": "code",
      "execution_count": 4,
      "metadata": {
        "colab": {
          "base_uri": "https://localhost:8080/",
          "height": 394
        },
        "id": "gyP8U2IQUtig",
        "outputId": "c4e71602-af6d-481a-d15c-b1aa0033a137"
      },
      "outputs": [
        {
          "data": {
            "text/html": [
              "<div>\n",
              "<style scoped>\n",
              "    .dataframe tbody tr th:only-of-type {\n",
              "        vertical-align: middle;\n",
              "    }\n",
              "\n",
              "    .dataframe tbody tr th {\n",
              "        vertical-align: top;\n",
              "    }\n",
              "\n",
              "    .dataframe thead th {\n",
              "        text-align: right;\n",
              "    }\n",
              "</style>\n",
              "<table border=\"1\" class=\"dataframe\">\n",
              "  <thead>\n",
              "    <tr style=\"text-align: right;\">\n",
              "      <th></th>\n",
              "      <th>Open</th>\n",
              "      <th>High</th>\n",
              "      <th>Low</th>\n",
              "      <th>Close</th>\n",
              "      <th>Adj Close</th>\n",
              "      <th>Volume</th>\n",
              "    </tr>\n",
              "    <tr>\n",
              "      <th>Date</th>\n",
              "      <th></th>\n",
              "      <th></th>\n",
              "      <th></th>\n",
              "      <th></th>\n",
              "      <th></th>\n",
              "      <th></th>\n",
              "    </tr>\n",
              "  </thead>\n",
              "  <tbody>\n",
              "    <tr>\n",
              "      <th>2012-01-03</th>\n",
              "      <td>14.621429</td>\n",
              "      <td>14.732143</td>\n",
              "      <td>14.607143</td>\n",
              "      <td>14.686786</td>\n",
              "      <td>12.433825</td>\n",
              "      <td>302220800</td>\n",
              "    </tr>\n",
              "    <tr>\n",
              "      <th>2012-01-04</th>\n",
              "      <td>14.642857</td>\n",
              "      <td>14.810000</td>\n",
              "      <td>14.617143</td>\n",
              "      <td>14.765714</td>\n",
              "      <td>12.500647</td>\n",
              "      <td>260022000</td>\n",
              "    </tr>\n",
              "    <tr>\n",
              "      <th>2012-01-05</th>\n",
              "      <td>14.819643</td>\n",
              "      <td>14.948214</td>\n",
              "      <td>14.738214</td>\n",
              "      <td>14.929643</td>\n",
              "      <td>12.639426</td>\n",
              "      <td>271269600</td>\n",
              "    </tr>\n",
              "    <tr>\n",
              "      <th>2012-01-06</th>\n",
              "      <td>14.991786</td>\n",
              "      <td>15.098214</td>\n",
              "      <td>14.972143</td>\n",
              "      <td>15.085714</td>\n",
              "      <td>12.771558</td>\n",
              "      <td>318292800</td>\n",
              "    </tr>\n",
              "    <tr>\n",
              "      <th>2012-01-09</th>\n",
              "      <td>15.196429</td>\n",
              "      <td>15.276786</td>\n",
              "      <td>15.048214</td>\n",
              "      <td>15.061786</td>\n",
              "      <td>12.751299</td>\n",
              "      <td>394024400</td>\n",
              "    </tr>\n",
              "    <tr>\n",
              "      <th>2012-01-10</th>\n",
              "      <td>15.211071</td>\n",
              "      <td>15.214286</td>\n",
              "      <td>15.053571</td>\n",
              "      <td>15.115714</td>\n",
              "      <td>12.796957</td>\n",
              "      <td>258196400</td>\n",
              "    </tr>\n",
              "    <tr>\n",
              "      <th>2012-01-11</th>\n",
              "      <td>15.095714</td>\n",
              "      <td>15.101786</td>\n",
              "      <td>14.975357</td>\n",
              "      <td>15.091071</td>\n",
              "      <td>12.776094</td>\n",
              "      <td>215084800</td>\n",
              "    </tr>\n",
              "    <tr>\n",
              "      <th>2012-01-12</th>\n",
              "      <td>15.081429</td>\n",
              "      <td>15.103571</td>\n",
              "      <td>14.955357</td>\n",
              "      <td>15.049643</td>\n",
              "      <td>12.741017</td>\n",
              "      <td>212587200</td>\n",
              "    </tr>\n",
              "    <tr>\n",
              "      <th>2012-01-13</th>\n",
              "      <td>14.989286</td>\n",
              "      <td>15.016071</td>\n",
              "      <td>14.952143</td>\n",
              "      <td>14.993214</td>\n",
              "      <td>12.693245</td>\n",
              "      <td>226021600</td>\n",
              "    </tr>\n",
              "    <tr>\n",
              "      <th>2012-01-17</th>\n",
              "      <td>15.150000</td>\n",
              "      <td>15.213929</td>\n",
              "      <td>15.105714</td>\n",
              "      <td>15.167857</td>\n",
              "      <td>12.841101</td>\n",
              "      <td>242897200</td>\n",
              "    </tr>\n",
              "  </tbody>\n",
              "</table>\n",
              "</div>"
            ],
            "text/plain": [
              "                 Open       High        Low      Close  Adj Close     Volume\n",
              "Date                                                                        \n",
              "2012-01-03  14.621429  14.732143  14.607143  14.686786  12.433825  302220800\n",
              "2012-01-04  14.642857  14.810000  14.617143  14.765714  12.500647  260022000\n",
              "2012-01-05  14.819643  14.948214  14.738214  14.929643  12.639426  271269600\n",
              "2012-01-06  14.991786  15.098214  14.972143  15.085714  12.771558  318292800\n",
              "2012-01-09  15.196429  15.276786  15.048214  15.061786  12.751299  394024400\n",
              "2012-01-10  15.211071  15.214286  15.053571  15.115714  12.796957  258196400\n",
              "2012-01-11  15.095714  15.101786  14.975357  15.091071  12.776094  215084800\n",
              "2012-01-12  15.081429  15.103571  14.955357  15.049643  12.741017  212587200\n",
              "2012-01-13  14.989286  15.016071  14.952143  14.993214  12.693245  226021600\n",
              "2012-01-17  15.150000  15.213929  15.105714  15.167857  12.841101  242897200"
            ]
          },
          "execution_count": 4,
          "metadata": {},
          "output_type": "execute_result"
        }
      ],
      "source": [
        "df.head(10)"
      ]
    },
    {
      "cell_type": "code",
      "execution_count": 5,
      "metadata": {
        "colab": {
          "base_uri": "https://localhost:8080/",
          "height": 568
        },
        "id": "0Y-KYSEjS7er",
        "outputId": "f0837303-afed-4c7f-fddb-4f556647f084"
      },
      "outputs": [
        {
          "data": {
            "text/html": [
              "<div>\n",
              "<style scoped>\n",
              "    .dataframe tbody tr th:only-of-type {\n",
              "        vertical-align: middle;\n",
              "    }\n",
              "\n",
              "    .dataframe tbody tr th {\n",
              "        vertical-align: top;\n",
              "    }\n",
              "\n",
              "    .dataframe thead th {\n",
              "        text-align: right;\n",
              "    }\n",
              "</style>\n",
              "<table border=\"1\" class=\"dataframe\">\n",
              "  <thead>\n",
              "    <tr style=\"text-align: right;\">\n",
              "      <th></th>\n",
              "      <th>Open</th>\n",
              "      <th>High</th>\n",
              "      <th>Low</th>\n",
              "      <th>Close</th>\n",
              "      <th>Adj Close</th>\n",
              "      <th>Volume</th>\n",
              "    </tr>\n",
              "    <tr>\n",
              "      <th>Date</th>\n",
              "      <th></th>\n",
              "      <th></th>\n",
              "      <th></th>\n",
              "      <th></th>\n",
              "      <th></th>\n",
              "      <th></th>\n",
              "    </tr>\n",
              "  </thead>\n",
              "  <tbody>\n",
              "    <tr>\n",
              "      <th>2024-02-15</th>\n",
              "      <td>183.550003</td>\n",
              "      <td>184.490005</td>\n",
              "      <td>181.350006</td>\n",
              "      <td>183.860001</td>\n",
              "      <td>183.860001</td>\n",
              "      <td>65434500</td>\n",
              "    </tr>\n",
              "    <tr>\n",
              "      <th>2024-02-16</th>\n",
              "      <td>183.419998</td>\n",
              "      <td>184.850006</td>\n",
              "      <td>181.669998</td>\n",
              "      <td>182.309998</td>\n",
              "      <td>182.309998</td>\n",
              "      <td>49701400</td>\n",
              "    </tr>\n",
              "    <tr>\n",
              "      <th>2024-02-20</th>\n",
              "      <td>181.789993</td>\n",
              "      <td>182.429993</td>\n",
              "      <td>180.000000</td>\n",
              "      <td>181.559998</td>\n",
              "      <td>181.559998</td>\n",
              "      <td>53665600</td>\n",
              "    </tr>\n",
              "    <tr>\n",
              "      <th>2024-02-21</th>\n",
              "      <td>181.940002</td>\n",
              "      <td>182.889999</td>\n",
              "      <td>180.660004</td>\n",
              "      <td>182.320007</td>\n",
              "      <td>182.320007</td>\n",
              "      <td>41529700</td>\n",
              "    </tr>\n",
              "    <tr>\n",
              "      <th>2024-02-22</th>\n",
              "      <td>183.479996</td>\n",
              "      <td>184.960007</td>\n",
              "      <td>182.460007</td>\n",
              "      <td>184.369995</td>\n",
              "      <td>184.369995</td>\n",
              "      <td>52292200</td>\n",
              "    </tr>\n",
              "    <tr>\n",
              "      <th>2024-02-23</th>\n",
              "      <td>185.009995</td>\n",
              "      <td>185.039993</td>\n",
              "      <td>182.229996</td>\n",
              "      <td>182.520004</td>\n",
              "      <td>182.520004</td>\n",
              "      <td>45119700</td>\n",
              "    </tr>\n",
              "    <tr>\n",
              "      <th>2024-02-26</th>\n",
              "      <td>182.240005</td>\n",
              "      <td>182.759995</td>\n",
              "      <td>180.649994</td>\n",
              "      <td>181.160004</td>\n",
              "      <td>181.160004</td>\n",
              "      <td>40867400</td>\n",
              "    </tr>\n",
              "    <tr>\n",
              "      <th>2024-02-27</th>\n",
              "      <td>181.100006</td>\n",
              "      <td>183.919998</td>\n",
              "      <td>179.559998</td>\n",
              "      <td>182.630005</td>\n",
              "      <td>182.630005</td>\n",
              "      <td>54318900</td>\n",
              "    </tr>\n",
              "    <tr>\n",
              "      <th>2024-02-28</th>\n",
              "      <td>182.509995</td>\n",
              "      <td>183.119995</td>\n",
              "      <td>180.130005</td>\n",
              "      <td>181.419998</td>\n",
              "      <td>181.419998</td>\n",
              "      <td>48953900</td>\n",
              "    </tr>\n",
              "    <tr>\n",
              "      <th>2024-02-29</th>\n",
              "      <td>181.270004</td>\n",
              "      <td>182.570007</td>\n",
              "      <td>179.529999</td>\n",
              "      <td>180.750000</td>\n",
              "      <td>180.750000</td>\n",
              "      <td>136682600</td>\n",
              "    </tr>\n",
              "  </tbody>\n",
              "</table>\n",
              "</div>"
            ],
            "text/plain": [
              "                  Open        High         Low       Close   Adj Close  \\\n",
              "Date                                                                     \n",
              "2024-02-15  183.550003  184.490005  181.350006  183.860001  183.860001   \n",
              "2024-02-16  183.419998  184.850006  181.669998  182.309998  182.309998   \n",
              "2024-02-20  181.789993  182.429993  180.000000  181.559998  181.559998   \n",
              "2024-02-21  181.940002  182.889999  180.660004  182.320007  182.320007   \n",
              "2024-02-22  183.479996  184.960007  182.460007  184.369995  184.369995   \n",
              "2024-02-23  185.009995  185.039993  182.229996  182.520004  182.520004   \n",
              "2024-02-26  182.240005  182.759995  180.649994  181.160004  181.160004   \n",
              "2024-02-27  181.100006  183.919998  179.559998  182.630005  182.630005   \n",
              "2024-02-28  182.509995  183.119995  180.130005  181.419998  181.419998   \n",
              "2024-02-29  181.270004  182.570007  179.529999  180.750000  180.750000   \n",
              "\n",
              "               Volume  \n",
              "Date                   \n",
              "2024-02-15   65434500  \n",
              "2024-02-16   49701400  \n",
              "2024-02-20   53665600  \n",
              "2024-02-21   41529700  \n",
              "2024-02-22   52292200  \n",
              "2024-02-23   45119700  \n",
              "2024-02-26   40867400  \n",
              "2024-02-27   54318900  \n",
              "2024-02-28   48953900  \n",
              "2024-02-29  136682600  "
            ]
          },
          "execution_count": 5,
          "metadata": {},
          "output_type": "execute_result"
        }
      ],
      "source": [
        "df.tail(10)"
      ]
    },
    {
      "cell_type": "code",
      "execution_count": 6,
      "metadata": {
        "colab": {
          "base_uri": "https://localhost:8080/",
          "height": 206
        },
        "id": "nYtElUvtVJYK",
        "outputId": "8b696ec2-a5fe-44cd-86bb-e4553b930220"
      },
      "outputs": [
        {
          "data": {
            "text/html": [
              "<div>\n",
              "<style scoped>\n",
              "    .dataframe tbody tr th:only-of-type {\n",
              "        vertical-align: middle;\n",
              "    }\n",
              "\n",
              "    .dataframe tbody tr th {\n",
              "        vertical-align: top;\n",
              "    }\n",
              "\n",
              "    .dataframe thead th {\n",
              "        text-align: right;\n",
              "    }\n",
              "</style>\n",
              "<table border=\"1\" class=\"dataframe\">\n",
              "  <thead>\n",
              "    <tr style=\"text-align: right;\">\n",
              "      <th></th>\n",
              "      <th>Date</th>\n",
              "      <th>Open</th>\n",
              "      <th>High</th>\n",
              "      <th>Low</th>\n",
              "      <th>Close</th>\n",
              "      <th>Adj Close</th>\n",
              "      <th>Volume</th>\n",
              "    </tr>\n",
              "  </thead>\n",
              "  <tbody>\n",
              "    <tr>\n",
              "      <th>0</th>\n",
              "      <td>2012-01-03</td>\n",
              "      <td>14.621429</td>\n",
              "      <td>14.732143</td>\n",
              "      <td>14.607143</td>\n",
              "      <td>14.686786</td>\n",
              "      <td>12.433825</td>\n",
              "      <td>302220800</td>\n",
              "    </tr>\n",
              "    <tr>\n",
              "      <th>1</th>\n",
              "      <td>2012-01-04</td>\n",
              "      <td>14.642857</td>\n",
              "      <td>14.810000</td>\n",
              "      <td>14.617143</td>\n",
              "      <td>14.765714</td>\n",
              "      <td>12.500647</td>\n",
              "      <td>260022000</td>\n",
              "    </tr>\n",
              "    <tr>\n",
              "      <th>2</th>\n",
              "      <td>2012-01-05</td>\n",
              "      <td>14.819643</td>\n",
              "      <td>14.948214</td>\n",
              "      <td>14.738214</td>\n",
              "      <td>14.929643</td>\n",
              "      <td>12.639426</td>\n",
              "      <td>271269600</td>\n",
              "    </tr>\n",
              "    <tr>\n",
              "      <th>3</th>\n",
              "      <td>2012-01-06</td>\n",
              "      <td>14.991786</td>\n",
              "      <td>15.098214</td>\n",
              "      <td>14.972143</td>\n",
              "      <td>15.085714</td>\n",
              "      <td>12.771558</td>\n",
              "      <td>318292800</td>\n",
              "    </tr>\n",
              "    <tr>\n",
              "      <th>4</th>\n",
              "      <td>2012-01-09</td>\n",
              "      <td>15.196429</td>\n",
              "      <td>15.276786</td>\n",
              "      <td>15.048214</td>\n",
              "      <td>15.061786</td>\n",
              "      <td>12.751299</td>\n",
              "      <td>394024400</td>\n",
              "    </tr>\n",
              "  </tbody>\n",
              "</table>\n",
              "</div>"
            ],
            "text/plain": [
              "        Date       Open       High        Low      Close  Adj Close     Volume\n",
              "0 2012-01-03  14.621429  14.732143  14.607143  14.686786  12.433825  302220800\n",
              "1 2012-01-04  14.642857  14.810000  14.617143  14.765714  12.500647  260022000\n",
              "2 2012-01-05  14.819643  14.948214  14.738214  14.929643  12.639426  271269600\n",
              "3 2012-01-06  14.991786  15.098214  14.972143  15.085714  12.771558  318292800\n",
              "4 2012-01-09  15.196429  15.276786  15.048214  15.061786  12.751299  394024400"
            ]
          },
          "execution_count": 6,
          "metadata": {},
          "output_type": "execute_result"
        }
      ],
      "source": [
        "df = df.reset_index()\n",
        "df.head()"
      ]
    },
    {
      "cell_type": "code",
      "execution_count": 7,
      "metadata": {
        "colab": {
          "base_uri": "https://localhost:8080/",
          "height": 206
        },
        "id": "as5lrqieVtg_",
        "outputId": "06f3651b-188e-43d2-eaee-1fb9fc654e64"
      },
      "outputs": [
        {
          "data": {
            "text/html": [
              "<div>\n",
              "<style scoped>\n",
              "    .dataframe tbody tr th:only-of-type {\n",
              "        vertical-align: middle;\n",
              "    }\n",
              "\n",
              "    .dataframe tbody tr th {\n",
              "        vertical-align: top;\n",
              "    }\n",
              "\n",
              "    .dataframe thead th {\n",
              "        text-align: right;\n",
              "    }\n",
              "</style>\n",
              "<table border=\"1\" class=\"dataframe\">\n",
              "  <thead>\n",
              "    <tr style=\"text-align: right;\">\n",
              "      <th></th>\n",
              "      <th>Open</th>\n",
              "      <th>High</th>\n",
              "      <th>Low</th>\n",
              "      <th>Close</th>\n",
              "      <th>Volume</th>\n",
              "    </tr>\n",
              "  </thead>\n",
              "  <tbody>\n",
              "    <tr>\n",
              "      <th>0</th>\n",
              "      <td>14.621429</td>\n",
              "      <td>14.732143</td>\n",
              "      <td>14.607143</td>\n",
              "      <td>14.686786</td>\n",
              "      <td>302220800</td>\n",
              "    </tr>\n",
              "    <tr>\n",
              "      <th>1</th>\n",
              "      <td>14.642857</td>\n",
              "      <td>14.810000</td>\n",
              "      <td>14.617143</td>\n",
              "      <td>14.765714</td>\n",
              "      <td>260022000</td>\n",
              "    </tr>\n",
              "    <tr>\n",
              "      <th>2</th>\n",
              "      <td>14.819643</td>\n",
              "      <td>14.948214</td>\n",
              "      <td>14.738214</td>\n",
              "      <td>14.929643</td>\n",
              "      <td>271269600</td>\n",
              "    </tr>\n",
              "    <tr>\n",
              "      <th>3</th>\n",
              "      <td>14.991786</td>\n",
              "      <td>15.098214</td>\n",
              "      <td>14.972143</td>\n",
              "      <td>15.085714</td>\n",
              "      <td>318292800</td>\n",
              "    </tr>\n",
              "    <tr>\n",
              "      <th>4</th>\n",
              "      <td>15.196429</td>\n",
              "      <td>15.276786</td>\n",
              "      <td>15.048214</td>\n",
              "      <td>15.061786</td>\n",
              "      <td>394024400</td>\n",
              "    </tr>\n",
              "  </tbody>\n",
              "</table>\n",
              "</div>"
            ],
            "text/plain": [
              "        Open       High        Low      Close     Volume\n",
              "0  14.621429  14.732143  14.607143  14.686786  302220800\n",
              "1  14.642857  14.810000  14.617143  14.765714  260022000\n",
              "2  14.819643  14.948214  14.738214  14.929643  271269600\n",
              "3  14.991786  15.098214  14.972143  15.085714  318292800\n",
              "4  15.196429  15.276786  15.048214  15.061786  394024400"
            ]
          },
          "execution_count": 7,
          "metadata": {},
          "output_type": "execute_result"
        }
      ],
      "source": [
        "df = df.drop(['Date', 'Adj Close'], axis=1)\n",
        "df.head()"
      ]
    },
    {
      "cell_type": "markdown",
      "metadata": {
        "id": "jDx2MqG9Wo0t"
      },
      "source": [
        "NB: Web App is predicting the close price"
      ]
    },
    {
      "cell_type": "code",
      "execution_count": 8,
      "metadata": {
        "colab": {
          "base_uri": "https://localhost:8080/",
          "height": 447
        },
        "id": "kXDcsOI9WXVa",
        "outputId": "71fcded7-3d9c-4bea-cd03-d904ee11599d"
      },
      "outputs": [
        {
          "data": {
            "text/plain": [
              "[<matplotlib.lines.Line2D at 0x11e45aecc50>]"
            ]
          },
          "execution_count": 8,
          "metadata": {},
          "output_type": "execute_result"
        },
        {
          "data": {
            "image/png": "[encoded data removed]",
            "text/plain": [
              "<Figure size 640x480 with 1 Axes>"
            ]
          },
          "metadata": {},
          "output_type": "display_data"
        }
      ],
      "source": [
        "plt .plot(df['Close'])"
      ]
    },
    {
      "cell_type": "code",
      "execution_count": 9,
      "metadata": {
        "colab": {
          "base_uri": "https://localhost:8080/",
          "height": 423
        },
        "id": "FI1rfysBXlQk",
        "outputId": "7fcb7988-2326-4533-d4c0-98913fc1c3aa"
      },
      "outputs": [
        {
          "data": {
            "text/html": [
              "<div>\n",
              "<style scoped>\n",
              "    .dataframe tbody tr th:only-of-type {\n",
              "        vertical-align: middle;\n",
              "    }\n",
              "\n",
              "    .dataframe tbody tr th {\n",
              "        vertical-align: top;\n",
              "    }\n",
              "\n",
              "    .dataframe thead th {\n",
              "        text-align: right;\n",
              "    }\n",
              "</style>\n",
              "<table border=\"1\" class=\"dataframe\">\n",
              "  <thead>\n",
              "    <tr style=\"text-align: right;\">\n",
              "      <th></th>\n",
              "      <th>Open</th>\n",
              "      <th>High</th>\n",
              "      <th>Low</th>\n",
              "      <th>Close</th>\n",
              "      <th>Volume</th>\n",
              "    </tr>\n",
              "  </thead>\n",
              "  <tbody>\n",
              "    <tr>\n",
              "      <th>0</th>\n",
              "      <td>14.621429</td>\n",
              "      <td>14.732143</td>\n",
              "      <td>14.607143</td>\n",
              "      <td>14.686786</td>\n",
              "      <td>302220800</td>\n",
              "    </tr>\n",
              "    <tr>\n",
              "      <th>1</th>\n",
              "      <td>14.642857</td>\n",
              "      <td>14.810000</td>\n",
              "      <td>14.617143</td>\n",
              "      <td>14.765714</td>\n",
              "      <td>260022000</td>\n",
              "    </tr>\n",
              "    <tr>\n",
              "      <th>2</th>\n",
              "      <td>14.819643</td>\n",
              "      <td>14.948214</td>\n",
              "      <td>14.738214</td>\n",
              "      <td>14.929643</td>\n",
              "      <td>271269600</td>\n",
              "    </tr>\n",
              "    <tr>\n",
              "      <th>3</th>\n",
              "      <td>14.991786</td>\n",
              "      <td>15.098214</td>\n",
              "      <td>14.972143</td>\n",
              "      <td>15.085714</td>\n",
              "      <td>318292800</td>\n",
              "    </tr>\n",
              "    <tr>\n",
              "      <th>4</th>\n",
              "      <td>15.196429</td>\n",
              "      <td>15.276786</td>\n",
              "      <td>15.048214</td>\n",
              "      <td>15.061786</td>\n",
              "      <td>394024400</td>\n",
              "    </tr>\n",
              "    <tr>\n",
              "      <th>...</th>\n",
              "      <td>...</td>\n",
              "      <td>...</td>\n",
              "      <td>...</td>\n",
              "      <td>...</td>\n",
              "      <td>...</td>\n",
              "    </tr>\n",
              "    <tr>\n",
              "      <th>3054</th>\n",
              "      <td>185.009995</td>\n",
              "      <td>185.039993</td>\n",
              "      <td>182.229996</td>\n",
              "      <td>182.520004</td>\n",
              "      <td>45119700</td>\n",
              "    </tr>\n",
              "    <tr>\n",
              "      <th>3055</th>\n",
              "      <td>182.240005</td>\n",
              "      <td>182.759995</td>\n",
              "      <td>180.649994</td>\n",
              "      <td>181.160004</td>\n",
              "      <td>40867400</td>\n",
              "    </tr>\n",
              "    <tr>\n",
              "      <th>3056</th>\n",
              "      <td>181.100006</td>\n",
              "      <td>183.919998</td>\n",
              "      <td>179.559998</td>\n",
              "      <td>182.630005</td>\n",
              "      <td>54318900</td>\n",
              "    </tr>\n",
              "    <tr>\n",
              "      <th>3057</th>\n",
              "      <td>182.509995</td>\n",
              "      <td>183.119995</td>\n",
              "      <td>180.130005</td>\n",
              "      <td>181.419998</td>\n",
              "      <td>48953900</td>\n",
              "    </tr>\n",
              "    <tr>\n",
              "      <th>3058</th>\n",
              "      <td>181.270004</td>\n",
              "      <td>182.570007</td>\n",
              "      <td>179.529999</td>\n",
              "      <td>180.750000</td>\n",
              "      <td>136682600</td>\n",
              "    </tr>\n",
              "  </tbody>\n",
              "</table>\n",
              "<p>3059 rows × 5 columns</p>\n",
              "</div>"
            ],
            "text/plain": [
              "            Open        High         Low       Close     Volume\n",
              "0      14.621429   14.732143   14.607143   14.686786  302220800\n",
              "1      14.642857   14.810000   14.617143   14.765714  260022000\n",
              "2      14.819643   14.948214   14.738214   14.929643  271269600\n",
              "3      14.991786   15.098214   14.972143   15.085714  318292800\n",
              "4      15.196429   15.276786   15.048214   15.061786  394024400\n",
              "...          ...         ...         ...         ...        ...\n",
              "3054  185.009995  185.039993  182.229996  182.520004   45119700\n",
              "3055  182.240005  182.759995  180.649994  181.160004   40867400\n",
              "3056  181.100006  183.919998  179.559998  182.630005   54318900\n",
              "3057  182.509995  183.119995  180.130005  181.419998   48953900\n",
              "3058  181.270004  182.570007  179.529999  180.750000  136682600\n",
              "\n",
              "[3059 rows x 5 columns]"
            ]
          },
          "execution_count": 9,
          "metadata": {},
          "output_type": "execute_result"
        }
      ],
      "source": [
        "df"
      ]
    },
    {
      "cell_type": "markdown",
      "metadata": {
        "id": "JcPibdPRZEEi"
      },
      "source": [
        "Creating the moving averages"
      ]
    },
    {
      "cell_type": "code",
      "execution_count": 10,
      "metadata": {
        "colab": {
          "base_uri": "https://localhost:8080/"
        },
        "id": "IVITOZ9PZCf8",
        "outputId": "4e47ad4d-c4e3-41d2-864a-9d867e1b2326"
      },
      "outputs": [
        {
          "data": {
            "text/plain": [
              "0            NaN\n",
              "1            NaN\n",
              "2            NaN\n",
              "3            NaN\n",
              "4            NaN\n",
              "          ...   \n",
              "3054    185.4411\n",
              "3055    185.5152\n",
              "3056    185.6175\n",
              "3057    185.6951\n",
              "3058    185.7535\n",
              "Name: Close, Length: 3059, dtype: float64"
            ]
          },
          "execution_count": 10,
          "metadata": {},
          "output_type": "execute_result"
        }
      ],
      "source": [
        "ma100 = df.Close.rolling(100).mean()\n",
        "ma100"
      ]
    },
    {
      "cell_type": "code",
      "execution_count": 11,
      "metadata": {
        "colab": {
          "base_uri": "https://localhost:8080/",
          "height": 364
        },
        "id": "HorlNNMuZaQq",
        "outputId": "113c2df4-a130-4db1-bb0e-09e7dc462f0c"
      },
      "outputs": [
        {
          "data": {
            "text/plain": [
              "[<matplotlib.lines.Line2D at 0x11e45b12540>]"
            ]
          },
          "execution_count": 11,
          "metadata": {},
          "output_type": "execute_result"
        },
        {
          "data": {
            "image/png": "[encoded data removed]",
            "text/plain": [
              "<Figure size 1200x600 with 1 Axes>"
            ]
          },
          "metadata": {},
          "output_type": "display_data"
        }
      ],
      "source": [
        "plt.figure(figsize= (12,6))\n",
        "plt.plot(df.Close)\n",
        "plt.plot(ma100)"
      ]
    },
    {
      "cell_type": "code",
      "execution_count": 12,
      "metadata": {
        "colab": {
          "base_uri": "https://localhost:8080/"
        },
        "id": "5XCkFmrzZt5x",
        "outputId": "4f0d6401-bbff-4779-cd21-e320de70bd65"
      },
      "outputs": [
        {
          "data": {
            "text/plain": [
              "0             NaN\n",
              "1             NaN\n",
              "2             NaN\n",
              "3             NaN\n",
              "4             NaN\n",
              "          ...    \n",
              "3054    183.73265\n",
              "3055    183.77960\n",
              "3056    183.82495\n",
              "3057    183.86330\n",
              "3058    183.90420\n",
              "Name: Close, Length: 3059, dtype: float64"
            ]
          },
          "execution_count": 12,
          "metadata": {},
          "output_type": "execute_result"
        }
      ],
      "source": [
        "ma200 = df.Close.rolling(200).mean()\n",
        "ma200"
      ]
    },
    {
      "cell_type": "code",
      "execution_count": 13,
      "metadata": {
        "colab": {
          "base_uri": "https://localhost:8080/",
          "height": 364
        },
        "id": "KxJd3C-uZ6pH",
        "outputId": "c3308f73-32fb-4fd4-bd9e-47ba83175690"
      },
      "outputs": [
        {
          "data": {
            "text/plain": [
              "[<matplotlib.lines.Line2D at 0x11e45b6fa10>]"
            ]
          },
          "execution_count": 13,
          "metadata": {},
          "output_type": "execute_result"
        },
        {
          "data": {
            "image/png": "[encoded data removed]",
            "text/plain": [
              "<Figure size 1200x600 with 1 Axes>"
            ]
          },
          "metadata": {},
          "output_type": "display_data"
        }
      ],
      "source": [
        "plt.figure(figsize= (12,6))\n",
        "plt.plot(df.Close)\n",
        "plt.plot(ma100, 'r')\n",
        "plt.plot(ma200, 'g')"
      ]
    },
    {
      "cell_type": "code",
      "execution_count": 14,
      "metadata": {
        "colab": {
          "base_uri": "https://localhost:8080/"
        },
        "id": "3qD7tV8HaGo6",
        "outputId": "6e825132-7fe4-4b70-9481-767ef8bd0f74"
      },
      "outputs": [
        {
          "data": {
            "text/plain": [
              "(3059, 5)"
            ]
          },
          "execution_count": 14,
          "metadata": {},
          "output_type": "execute_result"
        }
      ],
      "source": [
        "df.shape"
      ]
    },
    {
      "cell_type": "code",
      "execution_count": 15,
      "metadata": {
        "colab": {
          "base_uri": "https://localhost:8080/"
        },
        "id": "0BmeHKuCbeU3",
        "outputId": "daf6e98e-aa29-4709-d40b-1287f03f0df8"
      },
      "outputs": [
        {
          "name": "stdout",
          "output_type": "stream",
          "text": [
            "(2141, 1)\n",
            "(918, 1)\n"
          ]
        }
      ],
      "source": [
        "# Splitting the data into training and testing\n",
        "\n",
        "data_training = pd.DataFrame(df['Close'][0:int(len(df)*0.70)])\n",
        "data_testing = pd.DataFrame(df['Close'][int(len(df)*0.70):int(len(df))])\n",
        "\n",
        "print(data_training.shape)\n",
        "print(data_testing.shape)"
      ]
    },
    {
      "cell_type": "code",
      "execution_count": 16,
      "metadata": {
        "colab": {
          "base_uri": "https://localhost:8080/",
          "height": 206
        },
        "id": "gzpf8RvsrhvP",
        "outputId": "c4c964f1-ef17-4add-dbf3-ad6aa8561067"
      },
      "outputs": [
        {
          "data": {
            "text/html": [
              "<div>\n",
              "<style scoped>\n",
              "    .dataframe tbody tr th:only-of-type {\n",
              "        vertical-align: middle;\n",
              "    }\n",
              "\n",
              "    .dataframe tbody tr th {\n",
              "        vertical-align: top;\n",
              "    }\n",
              "\n",
              "    .dataframe thead th {\n",
              "        text-align: right;\n",
              "    }\n",
              "</style>\n",
              "<table border=\"1\" class=\"dataframe\">\n",
              "  <thead>\n",
              "    <tr style=\"text-align: right;\">\n",
              "      <th></th>\n",
              "      <th>Close</th>\n",
              "    </tr>\n",
              "  </thead>\n",
              "  <tbody>\n",
              "    <tr>\n",
              "      <th>0</th>\n",
              "      <td>14.686786</td>\n",
              "    </tr>\n",
              "    <tr>\n",
              "      <th>1</th>\n",
              "      <td>14.765714</td>\n",
              "    </tr>\n",
              "    <tr>\n",
              "      <th>2</th>\n",
              "      <td>14.929643</td>\n",
              "    </tr>\n",
              "    <tr>\n",
              "      <th>3</th>\n",
              "      <td>15.085714</td>\n",
              "    </tr>\n",
              "    <tr>\n",
              "      <th>4</th>\n",
              "      <td>15.061786</td>\n",
              "    </tr>\n",
              "  </tbody>\n",
              "</table>\n",
              "</div>"
            ],
            "text/plain": [
              "       Close\n",
              "0  14.686786\n",
              "1  14.765714\n",
              "2  14.929643\n",
              "3  15.085714\n",
              "4  15.061786"
            ]
          },
          "execution_count": 16,
          "metadata": {},
          "output_type": "execute_result"
        }
      ],
      "source": [
        "data_training.head()"
      ]
    },
    {
      "cell_type": "code",
      "execution_count": 17,
      "metadata": {
        "colab": {
          "base_uri": "https://localhost:8080/",
          "height": 206
        },
        "id": "E59VoXO1ro06",
        "outputId": "2ec7d0c0-ddf4-42c2-e07f-3336ef89bea1"
      },
      "outputs": [
        {
          "data": {
            "text/html": [
              "<div>\n",
              "<style scoped>\n",
              "    .dataframe tbody tr th:only-of-type {\n",
              "        vertical-align: middle;\n",
              "    }\n",
              "\n",
              "    .dataframe tbody tr th {\n",
              "        vertical-align: top;\n",
              "    }\n",
              "\n",
              "    .dataframe thead th {\n",
              "        text-align: right;\n",
              "    }\n",
              "</style>\n",
              "<table border=\"1\" class=\"dataframe\">\n",
              "  <thead>\n",
              "    <tr style=\"text-align: right;\">\n",
              "      <th></th>\n",
              "      <th>Close</th>\n",
              "    </tr>\n",
              "  </thead>\n",
              "  <tbody>\n",
              "    <tr>\n",
              "      <th>2141</th>\n",
              "      <td>95.342499</td>\n",
              "    </tr>\n",
              "    <tr>\n",
              "      <th>2142</th>\n",
              "      <td>95.752502</td>\n",
              "    </tr>\n",
              "    <tr>\n",
              "      <th>2143</th>\n",
              "      <td>95.919998</td>\n",
              "    </tr>\n",
              "    <tr>\n",
              "      <th>2144</th>\n",
              "      <td>95.477501</td>\n",
              "    </tr>\n",
              "    <tr>\n",
              "      <th>2145</th>\n",
              "      <td>97.057503</td>\n",
              "    </tr>\n",
              "  </tbody>\n",
              "</table>\n",
              "</div>"
            ],
            "text/plain": [
              "          Close\n",
              "2141  95.342499\n",
              "2142  95.752502\n",
              "2143  95.919998\n",
              "2144  95.477501\n",
              "2145  97.057503"
            ]
          },
          "execution_count": 17,
          "metadata": {},
          "output_type": "execute_result"
        }
      ],
      "source": [
        "data_testing.head()"
      ]
    },
    {
      "cell_type": "code",
      "execution_count": 18,
      "metadata": {
        "id": "xkXzpKV9ruWE"
      },
      "outputs": [],
      "source": [
        "from sklearn.preprocessing import MinMaxScaler\n",
        "scaler = MinMaxScaler(feature_range=(0,1))"
      ]
    },
    {
      "cell_type": "code",
      "execution_count": 19,
      "metadata": {
        "colab": {
          "base_uri": "https://localhost:8080/"
        },
        "id": "qP-0y_gRxT6h",
        "outputId": "6b183557-9f27-4bd1-df47-6432c9b64c5f"
      },
      "outputs": [
        {
          "data": {
            "text/plain": [
              "array([[0.00929743],\n",
              "       [0.01029005],\n",
              "       [0.01235166],\n",
              "       ...,\n",
              "       [0.96937678],\n",
              "       [1.        ],\n",
              "       [0.99635288]])"
            ]
          },
          "execution_count": 19,
          "metadata": {},
          "output_type": "execute_result"
        }
      ],
      "source": [
        "data_training_array = scaler.fit_transform(data_training)\n",
        "data_training_array"
      ]
    },
    {
      "cell_type": "code",
      "execution_count": 20,
      "metadata": {
        "colab": {
          "base_uri": "https://localhost:8080/"
        },
        "id": "ZxuIeKE6y3EC",
        "outputId": "677c1fe4-4c62-4442-b40f-87411d2ca8fe"
      },
      "outputs": [
        {
          "data": {
            "text/plain": [
              "(2141, 1)"
            ]
          },
          "execution_count": 20,
          "metadata": {},
          "output_type": "execute_result"
        }
      ],
      "source": [
        "data_training_array.shape"
      ]
    },
    {
      "cell_type": "code",
      "execution_count": 21,
      "metadata": {
        "id": "Vwg3BOGixqw1"
      },
      "outputs": [],
      "source": [
        "x_train = []\n",
        "y_train = []\n",
        "\n",
        "for i in range(100, data_training_array.shape[0]):\n",
        "  x_train.append(data_training_array[i-100:i])\n",
        "  y_train.append(data_training_array[i, 0])\n",
        "\n",
        "x_train, y_train = np.array(x_train), np.array(y_train)"
      ]
    },
    {
      "cell_type": "code",
      "execution_count": 22,
      "metadata": {
        "colab": {
          "base_uri": "https://localhost:8080/"
        },
        "id": "ivY54XkB30RA",
        "outputId": "946719a9-ca30-4ed5-f2dd-48bceafa9551"
      },
      "outputs": [
        {
          "data": {
            "text/plain": [
              "(2041, 100, 1)"
            ]
          },
          "execution_count": 22,
          "metadata": {},
          "output_type": "execute_result"
        }
      ],
      "source": [
        "x_train.shape"
      ]
    },
    {
      "cell_type": "markdown",
      "metadata": {
        "id": "u8ondkkK3N5Q"
      },
      "source": [
        "Building the ML Model"
      ]
    },
    {
      "cell_type": "code",
      "execution_count": 23,
      "metadata": {
        "id": "1ldd47ZE1TK2"
      },
      "outputs": [],
      "source": [
        "from keras.layers import Dense, Dropout, LSTM\n",
        "from keras.models import Sequential"
      ]
    },
    {
      "cell_type": "code",
      "execution_count": 24,
      "metadata": {
        "id": "lY2KAVLG3xzL"
      },
      "outputs": [
        {
          "name": "stderr",
          "output_type": "stream",
          "text": [
            "c:\\Users\\OLAMIDE\\AppData\\Local\\Programs\\Python\\Python312\\Lib\\site-packages\\keras\\src\\layers\\rnn\\rnn.py:204: UserWarning: Do not pass an `input_shape`/`input_dim` argument to a layer. When using Sequential models, prefer using an `Input(shape)` object as the first layer in the model instead.\n",
            "  super().__init__(**kwargs)\n"
          ]
        }
      ],
      "source": [
        "model = Sequential()\n",
        "model.add(LSTM(units=50, activation='relu', return_sequences=True,\n",
        "               input_shape=(x_train.shape[1], 1)))\n",
        "model.add(Dropout(0.2))\n",
        "\n",
        "\n",
        "model.add(LSTM(units=60, activation='relu', return_sequences=True))\n",
        "model.add(Dropout(0.3))\n",
        "\n",
        "\n",
        "model.add(LSTM(units=80, activation='relu', return_sequences=True))\n",
        "model.add(Dropout(0.4))\n",
        "\n",
        "\n",
        "model.add(LSTM(units=120, activation='relu'))\n",
        "model.add(Dropout(0.5))\n",
        "\n",
        "\n",
        "model.add(Dense(units=1))"
      ]
    },
    {
      "cell_type": "code",
      "execution_count": 25,
      "metadata": {
        "colab": {
          "base_uri": "https://localhost:8080/"
        },
        "id": "vi0ZFYRa9KpP",
        "outputId": "d4e9432b-e3d3-4e25-8e09-9e05cffa39b1"
      },
      "outputs": [
        {
          "data": {
            "text/html": [
              "<pre style=\"white-space:pre;overflow-x:auto;line-height:normal;font-family:Menlo,'DejaVu Sans Mono',consolas,'Courier New',monospace\"><span style=\"font-weight: bold\">Model: \"sequential\"</span>\n",
              "</pre>\n"
            ],
            "text/plain": [
              "\u001b[1mModel: \"sequential\"\u001b[0m\n"
            ]
          },
          "metadata": {},
          "output_type": "display_data"
        },
        {
          "data": {
            "text/html": [
              "<pre style=\"white-space:pre;overflow-x:auto;line-height:normal;font-family:Menlo,'DejaVu Sans Mono',consolas,'Courier New',monospace\">┏━━━━━━━━━━━━━━━━━━━━━━━━━━━━━━━━━┳━━━━━━━━━━━━━━━━━━━━━━━━┳━━━━━━━━━━━━━━━┓\n",
              "┃<span style=\"font-weight: bold\"> Layer (type)                    </span>┃<span style=\"font-weight: bold\"> Output Shape           </span>┃<span style=\"font-weight: bold\">       Param # </span>┃\n",
              "┡━━━━━━━━━━━━━━━━━━━━━━━━━━━━━━━━━╇━━━━━━━━━━━━━━━━━━━━━━━━╇━━━━━━━━━━━━━━━┩\n",
              "│ lstm (<span style=\"color: #0087ff; text-decoration-color: #0087ff\">LSTM</span>)                     │ (<span style=\"color: #00d7ff; text-decoration-color: #00d7ff\">None</span>, <span style=\"color: #00af00; text-decoration-color: #00af00\">100</span>, <span style=\"color: #00af00; text-decoration-color: #00af00\">50</span>)        │        <span style=\"color: #00af00; text-decoration-color: #00af00\">10,400</span> │\n",
              "├─────────────────────────────────┼────────────────────────┼───────────────┤\n",
              "│ dropout (<span style=\"color: #0087ff; text-decoration-color: #0087ff\">Dropout</span>)               │ (<span style=\"color: #00d7ff; text-decoration-color: #00d7ff\">None</span>, <span style=\"color: #00af00; text-decoration-color: #00af00\">100</span>, <span style=\"color: #00af00; text-decoration-color: #00af00\">50</span>)        │             <span style=\"color: #00af00; text-decoration-color: #00af00\">0</span> │\n",
              "├─────────────────────────────────┼────────────────────────┼───────────────┤\n",
              "│ lstm_1 (<span style=\"color: #0087ff; text-decoration-color: #0087ff\">LSTM</span>)                   │ (<span style=\"color: #00d7ff; text-decoration-color: #00d7ff\">None</span>, <span style=\"color: #00af00; text-decoration-color: #00af00\">100</span>, <span style=\"color: #00af00; text-decoration-color: #00af00\">60</span>)        │        <span style=\"color: #00af00; text-decoration-color: #00af00\">26,640</span> │\n",
              "├─────────────────────────────────┼────────────────────────┼───────────────┤\n",
              "│ dropout_1 (<span style=\"color: #0087ff; text-decoration-color: #0087ff\">Dropout</span>)             │ (<span style=\"color: #00d7ff; text-decoration-color: #00d7ff\">None</span>, <span style=\"color: #00af00; text-decoration-color: #00af00\">100</span>, <span style=\"color: #00af00; text-decoration-color: #00af00\">60</span>)        │             <span style=\"color: #00af00; text-decoration-color: #00af00\">0</span> │\n",
              "├─────────────────────────────────┼────────────────────────┼───────────────┤\n",
              "│ lstm_2 (<span style=\"color: #0087ff; text-decoration-color: #0087ff\">LSTM</span>)                   │ (<span style=\"color: #00d7ff; text-decoration-color: #00d7ff\">None</span>, <span style=\"color: #00af00; text-decoration-color: #00af00\">100</span>, <span style=\"color: #00af00; text-decoration-color: #00af00\">80</span>)        │        <span style=\"color: #00af00; text-decoration-color: #00af00\">45,120</span> │\n",
              "├─────────────────────────────────┼────────────────────────┼───────────────┤\n",
              "│ dropout_2 (<span style=\"color: #0087ff; text-decoration-color: #0087ff\">Dropout</span>)             │ (<span style=\"color: #00d7ff; text-decoration-color: #00d7ff\">None</span>, <span style=\"color: #00af00; text-decoration-color: #00af00\">100</span>, <span style=\"color: #00af00; text-decoration-color: #00af00\">80</span>)        │             <span style=\"color: #00af00; text-decoration-color: #00af00\">0</span> │\n",
              "├─────────────────────────────────┼────────────────────────┼───────────────┤\n",
              "│ lstm_3 (<span style=\"color: #0087ff; text-decoration-color: #0087ff\">LSTM</span>)                   │ (<span style=\"color: #00d7ff; text-decoration-color: #00d7ff\">None</span>, <span style=\"color: #00af00; text-decoration-color: #00af00\">120</span>)            │        <span style=\"color: #00af00; text-decoration-color: #00af00\">96,480</span> │\n",
              "├─────────────────────────────────┼────────────────────────┼───────────────┤\n",
              "│ dropout_3 (<span style=\"color: #0087ff; text-decoration-color: #0087ff\">Dropout</span>)             │ (<span style=\"color: #00d7ff; text-decoration-color: #00d7ff\">None</span>, <span style=\"color: #00af00; text-decoration-color: #00af00\">120</span>)            │             <span style=\"color: #00af00; text-decoration-color: #00af00\">0</span> │\n",
              "├─────────────────────────────────┼────────────────────────┼───────────────┤\n",
              "│ dense (<span style=\"color: #0087ff; text-decoration-color: #0087ff\">Dense</span>)                   │ (<span style=\"color: #00d7ff; text-decoration-color: #00d7ff\">None</span>, <span style=\"color: #00af00; text-decoration-color: #00af00\">1</span>)              │           <span style=\"color: #00af00; text-decoration-color: #00af00\">121</span> │\n",
              "└─────────────────────────────────┴────────────────────────┴───────────────┘\n",
              "</pre>\n"
            ],
            "text/plain": [
              "┏━━━━━━━━━━━━━━━━━━━━━━━━━━━━━━━━━┳━━━━━━━━━━━━━━━━━━━━━━━━┳━━━━━━━━━━━━━━━┓\n",
              "┃\u001b[1m \u001b[0m\u001b[1mLayer (type)                   \u001b[0m\u001b[1m \u001b[0m┃\u001b[1m \u001b[0m\u001b[1mOutput Shape          \u001b[0m\u001b[1m \u001b[0m┃\u001b[1m \u001b[0m\u001b[1m      Param #\u001b[0m\u001b[1m \u001b[0m┃\n",
              "┡━━━━━━━━━━━━━━━━━━━━━━━━━━━━━━━━━╇━━━━━━━━━━━━━━━━━━━━━━━━╇━━━━━━━━━━━━━━━┩\n",
              "│ lstm (\u001b[38;5;33mLSTM\u001b[0m)                     │ (\u001b[38;5;45mNone\u001b[0m, \u001b[38;5;34m100\u001b[0m, \u001b[38;5;34m50\u001b[0m)        │        \u001b[38;5;34m10,400\u001b[0m │\n",
              "├─────────────────────────────────┼────────────────────────┼───────────────┤\n",
              "│ dropout (\u001b[38;5;33mDropout\u001b[0m)               │ (\u001b[38;5;45mNone\u001b[0m, \u001b[38;5;34m100\u001b[0m, \u001b[38;5;34m50\u001b[0m)        │             \u001b[38;5;34m0\u001b[0m │\n",
              "├─────────────────────────────────┼────────────────────────┼───────────────┤\n",
              "│ lstm_1 (\u001b[38;5;33mLSTM\u001b[0m)                   │ (\u001b[38;5;45mNone\u001b[0m, \u001b[38;5;34m100\u001b[0m, \u001b[38;5;34m60\u001b[0m)        │        \u001b[38;5;34m26,640\u001b[0m │\n",
              "├─────────────────────────────────┼────────────────────────┼───────────────┤\n",
              "│ dropout_1 (\u001b[38;5;33mDropout\u001b[0m)             │ (\u001b[38;5;45mNone\u001b[0m, \u001b[38;5;34m100\u001b[0m, \u001b[38;5;34m60\u001b[0m)        │             \u001b[38;5;34m0\u001b[0m │\n",
              "├─────────────────────────────────┼────────────────────────┼───────────────┤\n",
              "│ lstm_2 (\u001b[38;5;33mLSTM\u001b[0m)                   │ (\u001b[38;5;45mNone\u001b[0m, \u001b[38;5;34m100\u001b[0m, \u001b[38;5;34m80\u001b[0m)        │        \u001b[38;5;34m45,120\u001b[0m │\n",
              "├─────────────────────────────────┼────────────────────────┼───────────────┤\n",
              "│ dropout_2 (\u001b[38;5;33mDropout\u001b[0m)             │ (\u001b[38;5;45mNone\u001b[0m, \u001b[38;5;34m100\u001b[0m, \u001b[38;5;34m80\u001b[0m)        │             \u001b[38;5;34m0\u001b[0m │\n",
              "├─────────────────────────────────┼────────────────────────┼───────────────┤\n",
              "│ lstm_3 (\u001b[38;5;33mLSTM\u001b[0m)                   │ (\u001b[38;5;45mNone\u001b[0m, \u001b[38;5;34m120\u001b[0m)            │        \u001b[38;5;34m96,480\u001b[0m │\n",
              "├─────────────────────────────────┼────────────────────────┼───────────────┤\n",
              "│ dropout_3 (\u001b[38;5;33mDropout\u001b[0m)             │ (\u001b[38;5;45mNone\u001b[0m, \u001b[38;5;34m120\u001b[0m)            │             \u001b[38;5;34m0\u001b[0m │\n",
              "├─────────────────────────────────┼────────────────────────┼───────────────┤\n",
              "│ dense (\u001b[38;5;33mDense\u001b[0m)                   │ (\u001b[38;5;45mNone\u001b[0m, \u001b[38;5;34m1\u001b[0m)              │           \u001b[38;5;34m121\u001b[0m │\n",
              "└─────────────────────────────────┴────────────────────────┴───────────────┘\n"
            ]
          },
          "metadata": {},
          "output_type": "display_data"
        },
        {
          "data": {
            "text/html": [
              "<pre style=\"white-space:pre;overflow-x:auto;line-height:normal;font-family:Menlo,'DejaVu Sans Mono',consolas,'Courier New',monospace\"><span style=\"font-weight: bold\"> Total params: </span><span style=\"color: #00af00; text-decoration-color: #00af00\">178,761</span> (698.29 KB)\n",
              "</pre>\n"
            ],
            "text/plain": [
              "\u001b[1m Total params: \u001b[0m\u001b[38;5;34m178,761\u001b[0m (698.29 KB)\n"
            ]
          },
          "metadata": {},
          "output_type": "display_data"
        },
        {
          "data": {
            "text/html": [
              "<pre style=\"white-space:pre;overflow-x:auto;line-height:normal;font-family:Menlo,'DejaVu Sans Mono',consolas,'Courier New',monospace\"><span style=\"font-weight: bold\"> Trainable params: </span><span style=\"color: #00af00; text-decoration-color: #00af00\">178,761</span> (698.29 KB)\n",
              "</pre>\n"
            ],
            "text/plain": [
              "\u001b[1m Trainable params: \u001b[0m\u001b[38;5;34m178,761\u001b[0m (698.29 KB)\n"
            ]
          },
          "metadata": {},
          "output_type": "display_data"
        },
        {
          "data": {
            "text/html": [
              "<pre style=\"white-space:pre;overflow-x:auto;line-height:normal;font-family:Menlo,'DejaVu Sans Mono',consolas,'Courier New',monospace\"><span style=\"font-weight: bold\"> Non-trainable params: </span><span style=\"color: #00af00; text-decoration-color: #00af00\">0</span> (0.00 B)\n",
              "</pre>\n"
            ],
            "text/plain": [
              "\u001b[1m Non-trainable params: \u001b[0m\u001b[38;5;34m0\u001b[0m (0.00 B)\n"
            ]
          },
          "metadata": {},
          "output_type": "display_data"
        }
      ],
      "source": [
        "model.summary()"
      ]
    },
    {
      "cell_type": "code",
      "execution_count": 26,
      "metadata": {
        "colab": {
          "base_uri": "https://localhost:8080/"
        },
        "id": "AMSp6DRZ9Rzs",
        "outputId": "cc90e446-5cc4-4bb0-dbe3-2b65b21f0491"
      },
      "outputs": [
        {
          "name": "stdout",
          "output_type": "stream",
          "text": [
            "Epoch 1/20\n",
            "\u001b[1m64/64\u001b[0m \u001b[32m━━━━━━━━━━━━━━━━━━━━\u001b[0m\u001b[37m\u001b[0m \u001b[1m25s\u001b[0m 231ms/step - loss: 0.0447\n",
            "Epoch 2/20\n",
            "\u001b[1m64/64\u001b[0m \u001b[32m━━━━━━━━━━━━━━━━━━━━\u001b[0m\u001b[37m\u001b[0m \u001b[1m13s\u001b[0m 195ms/step - loss: 0.0053\n",
            "Epoch 3/20\n",
            "\u001b[1m64/64\u001b[0m \u001b[32m━━━━━━━━━━━━━━━━━━━━\u001b[0m\u001b[37m\u001b[0m \u001b[1m15s\u001b[0m 230ms/step - loss: 0.0046\n",
            "Epoch 4/20\n",
            "\u001b[1m64/64\u001b[0m \u001b[32m━━━━━━━━━━━━━━━━━━━━\u001b[0m\u001b[37m\u001b[0m \u001b[1m14s\u001b[0m 222ms/step - loss: 0.0034\n",
            "Epoch 5/20\n",
            "\u001b[1m64/64\u001b[0m \u001b[32m━━━━━━━━━━━━━━━━━━━━\u001b[0m\u001b[37m\u001b[0m \u001b[1m12s\u001b[0m 194ms/step - loss: 0.0034\n",
            "Epoch 6/20\n",
            "\u001b[1m64/64\u001b[0m \u001b[32m━━━━━━━━━━━━━━━━━━━━\u001b[0m\u001b[37m\u001b[0m \u001b[1m15s\u001b[0m 226ms/step - loss: 0.0035\n",
            "Epoch 7/20\n",
            "\u001b[1m64/64\u001b[0m \u001b[32m━━━━━━━━━━━━━━━━━━━━\u001b[0m\u001b[37m\u001b[0m \u001b[1m14s\u001b[0m 220ms/step - loss: 0.0031\n",
            "Epoch 8/20\n",
            "\u001b[1m64/64\u001b[0m \u001b[32m━━━━━━━━━━━━━━━━━━━━\u001b[0m\u001b[37m\u001b[0m \u001b[1m14s\u001b[0m 222ms/step - loss: 0.0035\n",
            "Epoch 9/20\n",
            "\u001b[1m64/64\u001b[0m \u001b[32m━━━━━━━━━━━━━━━━━━━━\u001b[0m\u001b[37m\u001b[0m \u001b[1m19s\u001b[0m 192ms/step - loss: 0.0029\n",
            "Epoch 10/20\n",
            "\u001b[1m64/64\u001b[0m \u001b[32m━━━━━━━━━━━━━━━━━━━━\u001b[0m\u001b[37m\u001b[0m \u001b[1m14s\u001b[0m 221ms/step - loss: 0.0035\n",
            "Epoch 11/20\n",
            "\u001b[1m64/64\u001b[0m \u001b[32m━━━━━━━━━━━━━━━━━━━━\u001b[0m\u001b[37m\u001b[0m \u001b[1m14s\u001b[0m 224ms/step - loss: 0.0028\n",
            "Epoch 12/20\n",
            "\u001b[1m64/64\u001b[0m \u001b[32m━━━━━━━━━━━━━━━━━━━━\u001b[0m\u001b[37m\u001b[0m \u001b[1m14s\u001b[0m 215ms/step - loss: 0.0022\n",
            "Epoch 13/20\n",
            "\u001b[1m64/64\u001b[0m \u001b[32m━━━━━━━━━━━━━━━━━━━━\u001b[0m\u001b[37m\u001b[0m \u001b[1m14s\u001b[0m 222ms/step - loss: 0.0020\n",
            "Epoch 14/20\n",
            "\u001b[1m64/64\u001b[0m \u001b[32m━━━━━━━━━━━━━━━━━━━━\u001b[0m\u001b[37m\u001b[0m \u001b[1m19s\u001b[0m 196ms/step - loss: 0.0021\n",
            "Epoch 15/20\n",
            "\u001b[1m64/64\u001b[0m \u001b[32m━━━━━━━━━━━━━━━━━━━━\u001b[0m\u001b[37m\u001b[0m \u001b[1m15s\u001b[0m 233ms/step - loss: 0.0026\n",
            "Epoch 16/20\n",
            "\u001b[1m64/64\u001b[0m \u001b[32m━━━━━━━━━━━━━━━━━━━━\u001b[0m\u001b[37m\u001b[0m \u001b[1m19s\u001b[0m 202ms/step - loss: 0.0021\n",
            "Epoch 17/20\n",
            "\u001b[1m64/64\u001b[0m \u001b[32m━━━━━━━━━━━━━━━━━━━━\u001b[0m\u001b[37m\u001b[0m \u001b[1m21s\u001b[0m 204ms/step - loss: 0.0021\n",
            "Epoch 18/20\n",
            "\u001b[1m64/64\u001b[0m \u001b[32m━━━━━━━━━━━━━━━━━━━━\u001b[0m\u001b[37m\u001b[0m \u001b[1m14s\u001b[0m 225ms/step - loss: 0.0019\n",
            "Epoch 19/20\n",
            "\u001b[1m64/64\u001b[0m \u001b[32m━━━━━━━━━━━━━━━━━━━━\u001b[0m\u001b[37m\u001b[0m \u001b[1m19s\u001b[0m 199ms/step - loss: 0.0021\n",
            "Epoch 20/20\n",
            "\u001b[1m64/64\u001b[0m \u001b[32m━━━━━━━━━━━━━━━━━━━━\u001b[0m\u001b[37m\u001b[0m \u001b[1m14s\u001b[0m 219ms/step - loss: 0.0017\n"
          ]
        },
        {
          "data": {
            "text/plain": [
              "<keras.src.callbacks.history.History at 0x11e5676caa0>"
            ]
          },
          "execution_count": 26,
          "metadata": {},
          "output_type": "execute_result"
        }
      ],
      "source": [
        "model.compile(optimizer='adam', loss='mean_squared_error')\n",
        "model.fit(x_train, y_train, epochs= 20)"
      ]
    },
    {
      "cell_type": "code",
      "execution_count": 27,
      "metadata": {
        "colab": {
          "base_uri": "https://localhost:8080/"
        },
        "id": "LPaVewl--wmZ",
        "outputId": "b15c4214-f70b-420c-ad0f-66e62a251d3e"
      },
      "outputs": [
        {
          "name": "stderr",
          "output_type": "stream",
          "text": [
            "WARNING:absl:You are saving your model as an HDF5 file via `model.save()` or `keras.saving.save_model(model)`. This file format is considered legacy. We recommend using instead the native Keras format, e.g. `model.save('my_model.keras')` or `keras.saving.save_model(model, 'my_model.keras')`. \n"
          ]
        }
      ],
      "source": [
        "model.save('keras_model_LSTM.h5')"
      ]
    },
    {
      "cell_type": "code",
      "execution_count": 28,
      "metadata": {
        "colab": {
          "base_uri": "https://localhost:8080/",
          "height": 206
        },
        "id": "dwnz8i1UBbzb",
        "outputId": "346bc1a8-645a-467b-e542-9d55168153f2"
      },
      "outputs": [
        {
          "data": {
            "text/html": [
              "<div>\n",
              "<style scoped>\n",
              "    .dataframe tbody tr th:only-of-type {\n",
              "        vertical-align: middle;\n",
              "    }\n",
              "\n",
              "    .dataframe tbody tr th {\n",
              "        vertical-align: top;\n",
              "    }\n",
              "\n",
              "    .dataframe thead th {\n",
              "        text-align: right;\n",
              "    }\n",
              "</style>\n",
              "<table border=\"1\" class=\"dataframe\">\n",
              "  <thead>\n",
              "    <tr style=\"text-align: right;\">\n",
              "      <th></th>\n",
              "      <th>Close</th>\n",
              "    </tr>\n",
              "  </thead>\n",
              "  <tbody>\n",
              "    <tr>\n",
              "      <th>2141</th>\n",
              "      <td>95.342499</td>\n",
              "    </tr>\n",
              "    <tr>\n",
              "      <th>2142</th>\n",
              "      <td>95.752502</td>\n",
              "    </tr>\n",
              "    <tr>\n",
              "      <th>2143</th>\n",
              "      <td>95.919998</td>\n",
              "    </tr>\n",
              "    <tr>\n",
              "      <th>2144</th>\n",
              "      <td>95.477501</td>\n",
              "    </tr>\n",
              "    <tr>\n",
              "      <th>2145</th>\n",
              "      <td>97.057503</td>\n",
              "    </tr>\n",
              "  </tbody>\n",
              "</table>\n",
              "</div>"
            ],
            "text/plain": [
              "          Close\n",
              "2141  95.342499\n",
              "2142  95.752502\n",
              "2143  95.919998\n",
              "2144  95.477501\n",
              "2145  97.057503"
            ]
          },
          "execution_count": 28,
          "metadata": {},
          "output_type": "execute_result"
        }
      ],
      "source": [
        "data_testing.head()"
      ]
    },
    {
      "cell_type": "code",
      "execution_count": 29,
      "metadata": {
        "id": "pSKZY9ZVHn4i"
      },
      "outputs": [],
      "source": [
        "past_100_days = data_training.tail(100)"
      ]
    },
    {
      "cell_type": "code",
      "execution_count": 34,
      "metadata": {
        "colab": {
          "base_uri": "https://localhost:8080/"
        },
        "id": "jY6r7NYPIXE7",
        "outputId": "ebff92da-3a41-45b3-b977-db0264d6cd70"
      },
      "outputs": [],
      "source": [
        "final_df = pd.concat([past_100_days, data_testing], ignore_index=True, axis=0)"
      ]
    },
    {
      "cell_type": "code",
      "execution_count": 35,
      "metadata": {
        "colab": {
          "base_uri": "https://localhost:8080/",
          "height": 206
        },
        "id": "BIabWfsnJlg7",
        "outputId": "454fdaea-ff63-4aa3-c07c-7a60bfab32c5"
      },
      "outputs": [
        {
          "data": {
            "text/html": [
              "<div>\n",
              "<style scoped>\n",
              "    .dataframe tbody tr th:only-of-type {\n",
              "        vertical-align: middle;\n",
              "    }\n",
              "\n",
              "    .dataframe tbody tr th {\n",
              "        vertical-align: top;\n",
              "    }\n",
              "\n",
              "    .dataframe thead th {\n",
              "        text-align: right;\n",
              "    }\n",
              "</style>\n",
              "<table border=\"1\" class=\"dataframe\">\n",
              "  <thead>\n",
              "    <tr style=\"text-align: right;\">\n",
              "      <th></th>\n",
              "      <th>Close</th>\n",
              "    </tr>\n",
              "  </thead>\n",
              "  <tbody>\n",
              "    <tr>\n",
              "      <th>0</th>\n",
              "      <td>81.217499</td>\n",
              "    </tr>\n",
              "    <tr>\n",
              "      <th>1</th>\n",
              "      <td>81.237503</td>\n",
              "    </tr>\n",
              "    <tr>\n",
              "      <th>2</th>\n",
              "      <td>79.750000</td>\n",
              "    </tr>\n",
              "    <tr>\n",
              "      <th>3</th>\n",
              "      <td>80.904999</td>\n",
              "    </tr>\n",
              "    <tr>\n",
              "      <th>4</th>\n",
              "      <td>80.074997</td>\n",
              "    </tr>\n",
              "  </tbody>\n",
              "</table>\n",
              "</div>"
            ],
            "text/plain": [
              "       Close\n",
              "0  81.217499\n",
              "1  81.237503\n",
              "2  79.750000\n",
              "3  80.904999\n",
              "4  80.074997"
            ]
          },
          "execution_count": 35,
          "metadata": {},
          "output_type": "execute_result"
        }
      ],
      "source": [
        "final_df.head()"
      ]
    },
    {
      "cell_type": "code",
      "execution_count": 36,
      "metadata": {
        "colab": {
          "base_uri": "https://localhost:8080/"
        },
        "id": "n0Kn73_RJ8kB",
        "outputId": "5e488b35-7021-40dc-9f6c-ce5608508d68"
      },
      "outputs": [
        {
          "data": {
            "text/plain": [
              "array([[0.17691481],\n",
              "       [0.17705567],\n",
              "       [0.16658159],\n",
              "       ...,\n",
              "       [0.89099938],\n",
              "       [0.88247926],\n",
              "       [0.87776154]])"
            ]
          },
          "execution_count": 36,
          "metadata": {},
          "output_type": "execute_result"
        }
      ],
      "source": [
        "input_data = scaler.fit_transform(final_df)\n",
        "input_data"
      ]
    },
    {
      "cell_type": "code",
      "execution_count": 37,
      "metadata": {
        "colab": {
          "base_uri": "https://localhost:8080/"
        },
        "id": "HjvWMHBIKSb8",
        "outputId": "ad028f51-0420-4998-b625-86ed0d122408"
      },
      "outputs": [
        {
          "data": {
            "text/plain": [
              "(1018, 1)"
            ]
          },
          "execution_count": 37,
          "metadata": {},
          "output_type": "execute_result"
        }
      ],
      "source": [
        "input_data.shape"
      ]
    },
    {
      "cell_type": "code",
      "execution_count": 38,
      "metadata": {
        "id": "8AzPScJoKXYo"
      },
      "outputs": [],
      "source": [
        "x_test = []\n",
        "y_test = []\n",
        "\n",
        "for i in range(100, input_data.shape[0]):\n",
        "  x_test.append(input_data[i-100:i])\n",
        "  y_test.append(input_data[i, 0])\n",
        "\n",
        "x_test, y_test = np.array(x_test), np.array(y_test)"
      ]
    },
    {
      "cell_type": "code",
      "execution_count": 39,
      "metadata": {
        "colab": {
          "base_uri": "https://localhost:8080/"
        },
        "id": "wuH-hE2TLPPt",
        "outputId": "50478a9b-6ea3-4412-c4bf-04e3c718268e"
      },
      "outputs": [
        {
          "name": "stdout",
          "output_type": "stream",
          "text": [
            "(918, 100, 1)\n",
            "(918,)\n"
          ]
        }
      ],
      "source": [
        "print(x_test.shape)\n",
        "print(y_test.shape)"
      ]
    },
    {
      "cell_type": "code",
      "execution_count": 40,
      "metadata": {
        "colab": {
          "base_uri": "https://localhost:8080/"
        },
        "id": "OQ-1bpYfLG_f",
        "outputId": "c228976f-ffb5-43e5-e6cd-ead1a5a9f51c"
      },
      "outputs": [
        {
          "name": "stdout",
          "output_type": "stream",
          "text": [
            "\u001b[1m29/29\u001b[0m \u001b[32m━━━━━━━━━━━━━━━━━━━━\u001b[0m\u001b[37m\u001b[0m \u001b[1m4s\u001b[0m 106ms/step\n"
          ]
        }
      ],
      "source": [
        "# Making Prediction\n",
        "\n",
        "y_pred = model.predict(x_test)\n"
      ]
    },
    {
      "cell_type": "code",
      "execution_count": 41,
      "metadata": {
        "colab": {
          "base_uri": "https://localhost:8080/"
        },
        "id": "t9t4g7a4L9AG",
        "outputId": "79357c6d-ed0e-41bb-f117-58cd2a8f8ed6"
      },
      "outputs": [
        {
          "data": {
            "text/plain": [
              "(918, 1)"
            ]
          },
          "execution_count": 41,
          "metadata": {},
          "output_type": "execute_result"
        }
      ],
      "source": [
        "y_pred.shape"
      ]
    },
    {
      "cell_type": "code",
      "execution_count": 42,
      "metadata": {
        "colab": {
          "base_uri": "https://localhost:8080/"
        },
        "id": "ZXlQhGLYMLTN",
        "outputId": "6ce6b64b-8f64-4e53-8781-33a72423dd9a"
      },
      "outputs": [
        {
          "data": {
            "text/plain": [
              "array([0.27637439, 0.27926138, 0.28044078, 0.27732499, 0.28845039,\n",
              "       0.29315049, 0.28468322, 0.28331016, 0.29760416, 0.28804549,\n",
              "       0.28996426, 0.25878854, 0.257169  , 0.27262484, 0.26165792,\n",
              "       0.27424438, 0.28234199, 0.35324874, 0.37210203, 0.37722465,\n",
              "       0.38002359, 0.40706249, 0.38741707, 0.39878889, 0.37518264,\n",
              "       0.40077809, 0.41486086, 0.41413911, 0.41202668, 0.41875121,\n",
              "       0.41977219, 0.43785098, 0.48076824, 0.49124227, 0.48397203,\n",
              "       0.49592479, 0.48527472, 0.48384884, 0.51365144, 0.54984416,\n",
              "       0.53026912, 0.45619376, 0.45675709, 0.39944021, 0.43112645,\n",
              "       0.40415793, 0.39366628, 0.41732534, 0.41859279, 0.39458164,\n",
              "       0.38197755, 0.3573327 , 0.38014683, 0.3923284 , 0.35930433,\n",
              "       0.36704985, 0.39563786, 0.41450877, 0.40838275, 0.42049394,\n",
              "       0.42739452, 0.40084847, 0.42535251, 0.40183431, 0.41535376,\n",
              "       0.4145792 , 0.42866197, 0.48097947, 0.45774288, 0.45837663,\n",
              "       0.45499674, 0.44309678, 0.42169102, 0.43246433, 0.42795784,\n",
              "       0.42007147, 0.4150721 , 0.41514252, 0.42605664, 0.38803315,\n",
              "       0.41704368, 0.37155633, 0.37092258, 0.38268173, 0.41443834,\n",
              "       0.44316721, 0.44077316, 0.42408506, 0.42162059, 0.44640624,\n",
              "       0.44443466, 0.44478675, 0.4521098 , 0.44570211, 0.43612582,\n",
              "       0.44042107, 0.43126725, 0.40669283, 0.41598746, 0.42204305,\n",
              "       0.42598621, 0.44330807, 0.46914994, 0.47168484, 0.47069905,\n",
              "       0.46584048, 0.47640256, 0.48083861, 0.46253102, 0.47281144,\n",
              "       0.46696713, 0.46253102, 0.50548346, 0.50499057, 0.5112574 ,\n",
              "       0.49689302, 0.50794794, 0.53364906, 0.527171  , 0.53428276,\n",
              "       0.56751811, 0.55470273, 0.54660518, 0.53935256, 0.51625683,\n",
              "       0.52752298, 0.4964705 , 0.52688928, 0.53484608, 0.51322898,\n",
              "       0.51196158, 0.52667805, 0.51273613, 0.50027285, 0.50513142,\n",
              "       0.53470522, 0.5687855 , 0.58427664, 0.61138591, 0.61307588,\n",
              "       0.60533031, 0.57033462, 0.53421238, 0.54956255, 0.55554777,\n",
              "       0.5481543 , 0.57244705, 0.56801095, 0.56906722, 0.56272991,\n",
              "       0.55836428, 0.55653356, 0.55822343, 0.54287326, 0.52632596,\n",
              "       0.51836926, 0.5194958 , 0.49224568, 0.49125989, 0.48766876,\n",
              "       0.45696832, 0.45886952, 0.50484976, 0.48604928, 0.4645026 ,\n",
              "       0.45091272, 0.45999612, 0.42436672, 0.45767245, 0.44985656,\n",
              "       0.46379847, 0.45724998, 0.47809248, 0.48921788, 0.48351437,\n",
              "       0.45372929, 0.44992693, 0.47386766, 0.46788249, 0.45063106,\n",
              "       0.45415175, 0.45851743, 0.45978488, 0.44929323, 0.46513635,\n",
              "       0.47112152, 0.49154155, 0.49372436, 0.50562432, 0.52294612,\n",
              "       0.54153538, 0.52914258, 0.55160451, 0.53470522, 0.55209745,\n",
              "       0.54970341, 0.5544915 , 0.54230993, 0.54505607, 0.53407152,\n",
              "       0.55083006, 0.55364657, 0.5513229 , 0.54561939, 0.54491521,\n",
              "       0.53069169, 0.53829629, 0.50527223, 0.50703263, 0.5185805 ,\n",
              "       0.52188996, 0.49823084, 0.49161198, 0.46950198, 0.48499306,\n",
              "       0.50245566, 0.49414683, 0.48414807, 0.48302148, 0.50146987,\n",
              "       0.48823209, 0.49999119, 0.49858293, 0.49823084, 0.48717587,\n",
              "       0.48245815, 0.48013448, 0.48562676, 0.47492387, 0.49147112,\n",
              "       0.49154155, 0.49745629, 0.50020242, 0.49302023, 0.50175154,\n",
              "       0.52379105, 0.51787632, 0.52146738, 0.53301525, 0.5236503 ,\n",
              "       0.53660643, 0.5484359 , 0.54646432, 0.54442237, 0.54230993,\n",
              "       0.55406903, 0.5649832 , 0.56941931, 0.57160212, 0.59054347,\n",
              "       0.6050487 , 0.62300426, 0.6136392 , 0.62680656, 0.62251131,\n",
              "       0.63053849, 0.65525371, 0.650536  , 0.63581953, 0.60807645,\n",
              "       0.63412955, 0.62884851, 0.63870652, 0.65109932, 0.65412717,\n",
              "       0.63849529, 0.62589115, 0.63053849, 0.6320876 , 0.62969355,\n",
              "       0.64264968, 0.63976268, 0.64053724, 0.63405918, 0.63370709,\n",
              "       0.63025688, 0.6320876 , 0.65342299, 0.65490173, 0.66912525,\n",
              "       0.66257681, 0.63560829, 0.63800234, 0.64849404, 0.65919698,\n",
              "       0.65856317, 0.64969106, 0.64391708, 0.65138103, 0.68320802,\n",
              "       0.67412468, 0.67891277, 0.68693995, 0.69151691, 0.70834582,\n",
              "       0.69722042, 0.68989742, 0.65398631, 0.65807033, 0.64800109,\n",
              "       0.65440878, 0.65271881, 0.63349586, 0.61152677, 0.61497698,\n",
              "       0.63201722, 0.63891775, 0.63955145, 0.62863728, 0.60427415,\n",
              "       0.61075221, 0.60138715, 0.6094847 , 0.58476948, 0.59864102,\n",
              "       0.60490785, 0.61399119, 0.61124505, 0.61061135, 0.60145753,\n",
              "       0.59723276, 0.61730065, 0.62490536, 0.63694617, 0.65250758,\n",
              "       0.65602827, 0.65757738, 0.65201473, 0.65166264, 0.65645084,\n",
              "       0.65314138, 0.67933534, 0.65983068, 0.65391594, 0.66137979,\n",
              "       0.67173064, 0.66799871, 0.6702519 , 0.66433716, 0.66694244,\n",
              "       0.64659284, 0.64624075, 0.66116856, 0.66123893, 0.66828032,\n",
              "       0.68581341, 0.7166546 , 0.73552557, 0.73883503, 0.74158117,\n",
              "       0.74531309, 0.70919075, 0.73334276, 0.76897215, 0.76524023,\n",
              "       0.75812836, 0.74460891, 0.76911301, 0.81037543, 0.8378369 ,\n",
              "       0.83417535, 0.86860772, 0.84248424, 0.83255586, 0.86755155,\n",
              "       0.81798014, 0.81009382, 0.8003063 , 0.82312043, 0.84178006,\n",
              "       0.84628654, 0.87480417, 0.86748107, 0.86811488, 0.85980599,\n",
              "       0.85536999, 0.88663365, 0.87036806, 0.83671025, 0.81614942,\n",
              "       0.81734644, 0.8174873 , 0.8378369 , 0.8410055 , 0.8174873 ,\n",
              "       0.82368375, 0.80065839, 0.77552059, 0.7634094 , 0.74862255,\n",
              "       0.7430598 , 0.73010367, 0.72946998, 0.72616052, 0.80439032,\n",
              "       0.83572446, 0.83452744, 0.84318831, 0.82248662, 0.81889555,\n",
              "       0.81375537, 0.83607655, 0.84628654, 0.81699435, 0.79249036,\n",
              "       0.79418033, 0.82171206, 0.8200222 , 0.79418033, 0.78305493,\n",
              "       0.76207163, 0.73214574, 0.75094622, 0.76580355, 0.76770465,\n",
              "       0.7541852 , 0.77784426, 0.77552059, 0.75397397, 0.72672384,\n",
              "       0.71362686, 0.75242485, 0.72123157, 0.69454466, 0.66560456,\n",
              "       0.69707956, 0.72876579, 0.73601841, 0.75967747, 0.76953548,\n",
              "       0.79375786, 0.80354538, 0.83072514, 0.83530199, 0.84149845,\n",
              "       0.86515751, 0.85677824, 0.83452744, 0.832415  , 0.86149596,\n",
              "       0.83769604, 0.81495239, 0.81713521, 0.80270034, 0.77214076,\n",
              "       0.78558983, 0.80488316, 0.76890167, 0.76735267, 0.783759  ,\n",
              "       0.78256198, 0.77685847, 0.74425682, 0.75193201, 0.70912038,\n",
              "       0.70750089, 0.75728343, 0.71510549, 0.71728841, 0.72799124,\n",
              "       0.77404196, 0.70890914, 0.71250021, 0.67574417, 0.69299554,\n",
              "       0.63659408, 0.60885101, 0.64088933, 0.6298343 , 0.65588752,\n",
              "       0.59659906, 0.57216545, 0.57385531, 0.61272379, 0.59335998,\n",
              "       0.59448663, 0.6174415 , 0.65870403, 0.6530709 , 0.65215559,\n",
              "       0.66975906, 0.62870776, 0.63405918, 0.65215559, 0.64687455,\n",
              "       0.60941433, 0.57061633, 0.53364906, 0.5398454 , 0.55864589,\n",
              "       0.52083368, 0.53139576, 0.56174412, 0.55808268, 0.57864351,\n",
              "       0.6025138 , 0.6025138 , 0.57279915, 0.58540318, 0.56772934,\n",
              "       0.58329074, 0.60180962, 0.61138591, 0.63553792, 0.64039638,\n",
              "       0.62511659, 0.6320876 , 0.62948232, 0.65046562, 0.66243595,\n",
              "       0.64060772, 0.66828032, 0.6826447 , 0.69891039, 0.69003817,\n",
              "       0.682011  , 0.67250519, 0.70904989, 0.71299316, 0.74932663,\n",
              "       0.74228524, 0.73172316, 0.77481652, 0.77256322, 0.76932424,\n",
              "       0.7659443 , 0.76629639, 0.79671523, 0.79143419, 0.8168536 ,\n",
              "       0.82452868, 0.82340203, 0.83410497, 0.83128835, 0.81276958,\n",
              "       0.78495613, 0.78256198, 0.78467441, 0.80227788, 0.75714257,\n",
              "       0.74136994, 0.7239777 , 0.71207774, 0.71728841, 0.70214937,\n",
              "       0.6931364 , 0.70320564, 0.69264356, 0.71313391, 0.75580469,\n",
              "       0.68827783, 0.69862867, 0.67792698, 0.66616788, 0.69278431,\n",
              "       0.70982445, 0.6874329 , 0.68053237, 0.66426668, 0.66666083,\n",
              "       0.67363173, 0.66011228, 0.60828768, 0.57815056, 0.60807645,\n",
              "       0.63377757, 0.6358899 , 0.62905975, 0.59145877, 0.59378244,\n",
              "       0.58364283, 0.57913635, 0.61187886, 0.57941806, 0.60779484,\n",
              "       0.61723027, 0.61800483, 0.61469537, 0.64201598, 0.65736615,\n",
              "       0.67771575, 0.65666207, 0.62462375, 0.70165652, 0.68475713,\n",
              "       0.66581579, 0.62624324, 0.58293876, 0.57941806, 0.58322037,\n",
              "       0.58730438, 0.55470273, 0.63919936, 0.65912649, 0.64912774,\n",
              "       0.66152054, 0.65271881, 0.66630874, 0.67032227, 0.64722654,\n",
              "       0.66250633, 0.66877327, 0.64793072, 0.62053973, 0.59906348,\n",
              "       0.64736739, 0.64933897, 0.64581828, 0.6375095 , 0.61131553,\n",
              "       0.597444  , 0.6094847 , 0.60603449, 0.62244094, 0.62934146,\n",
              "       0.61342797, 0.56618023, 0.55216783, 0.53709927, 0.53660643,\n",
              "       0.55878675, 0.53611348, 0.5335082 , 0.52062245, 0.49252734,\n",
              "       0.51766508, 0.51991827, 0.48569719, 0.49478058, 0.48534509,\n",
              "       0.51773546, 0.52146738, 0.5255514 , 0.54498569, 0.54442237,\n",
              "       0.55392818, 0.56223707, 0.55709689, 0.55751935, 0.57582689,\n",
              "       0.59864102, 0.60863977, 0.60392206, 0.61870901, 0.63258044,\n",
              "       0.61194923, 0.62103257, 0.62905975, 0.66701292, 0.69292517,\n",
              "       0.6734205 , 0.69398133, 0.67475838, 0.6673649 , 0.66835069,\n",
              "       0.68834831, 0.68377134, 0.69876953, 0.68736252, 0.67919449,\n",
              "       0.650536  , 0.65356385, 0.65701406, 0.63807282, 0.64659284,\n",
              "       0.64300177, 0.62821482, 0.63243969, 0.66849155, 0.68820745,\n",
              "       0.67250519, 0.68144767, 0.66539332, 0.65067685, 0.66454839,\n",
              "       0.67947609, 0.68229271, 0.70243108, 0.69644586, 0.71334514,\n",
              "       0.72658298, 0.71637299, 0.72411845, 0.73341313, 0.7195416 ,\n",
              "       0.71510549, 0.73707469, 0.74827046, 0.76615554, 0.77509813,\n",
              "       0.77129582, 0.75812836, 0.76446567, 0.74594679, 0.73728592,\n",
              "       0.73235697, 0.77080288, 0.76833845, 0.76847921, 0.77721056,\n",
              "       0.7853786 , 0.77847796, 0.76700057, 0.76918339, 0.75819884,\n",
              "       0.75812836, 0.79087087, 0.79981335, 0.79917965, 0.79178617,\n",
              "       0.78411109, 0.77242236, 0.82720444, 0.82671149, 0.81452993,\n",
              "       0.82713396, 0.82847184, 0.82016306, 0.81664236, 0.81664236,\n",
              "       0.82100799, 0.83762566, 0.83840022, 0.83164044, 0.81305119,\n",
              "       0.81502277, 0.82312043, 0.84030132, 0.85346878, 0.85311669,\n",
              "       0.8731142 , 0.8791698 , 0.86952313, 0.86691785, 0.85713033,\n",
              "       0.87649414, 0.87924028, 0.89916731, 0.89578747, 0.90029395,\n",
              "       0.91479919, 0.90712411, 0.9077578 , 0.90036444, 0.9217702 ,\n",
              "       0.91951691, 0.90958863, 0.92923405, 0.93761332, 0.94000736,\n",
              "       0.97084867, 0.96021621, 0.95225941, 0.95563925, 0.94768245,\n",
              "       0.93310684, 0.92937491, 0.94127487, 0.94669666, 0.94775293,\n",
              "       0.97098953, 0.9691587 , 0.97880547, 0.96493393, 0.95655466,\n",
              "       0.96225817, 0.96838414, 0.97458059, 0.96556763, 0.98394565,\n",
              "       0.98831127, 0.98239654, 0.96106115, 0.95113277, 0.8864929 ,\n",
              "       0.86438295, 0.87107225, 0.85973561, 0.8581865 , 0.85691899,\n",
              "       0.8686782 , 0.85452495, 0.8483286 , 0.83023219, 0.83368251,\n",
              "       0.84318831, 0.85297583, 0.88036682, 0.84699072, 0.86269298,\n",
              "       0.87381838, 0.90149098, 0.92634706, 0.92789617, 0.93909206,\n",
              "       0.94078192, 0.89297096, 0.8552995 , 0.85966513, 0.86797402,\n",
              "       0.8464274 , 0.83171093, 0.84248424, 0.83734395, 0.8581865 ,\n",
              "       0.86593206, 0.84072389, 0.82973924, 0.83579483, 0.84487828,\n",
              "       0.81586781, 0.80509439, 0.80692522, 0.81058677, 0.82847184,\n",
              "       0.81896593, 0.82783814, 0.83663987, 0.85480666, 0.86536874,\n",
              "       0.86114387, 0.87107225, 0.87747993, 0.86438295, 0.86346754,\n",
              "       0.85241251, 0.84318831, 0.84051266, 0.82234587, 0.8231908 ,\n",
              "       0.82628903, 0.80981221, 0.78016793, 0.78953299, 0.8041086 ,\n",
              "       0.80748854, 0.83002095, 0.85536999, 0.84889182, 0.8670586 ,\n",
              "       0.88529587, 0.8928301 , 0.88945027, 0.91754533, 0.90627917,\n",
              "       0.92486843, 0.92888196, 0.9408524 , 0.94071155, 0.95310435,\n",
              "       0.94740084, 0.95211856, 0.94268313, 0.94141562, 0.94571087,\n",
              "       0.93845825, 0.94254227, 0.95162571, 0.93888072, 0.96697588,\n",
              "       0.95923042, 0.9729611 , 0.98310072, 0.96528591, 0.97605933,\n",
              "       0.99894384, 1.        , 0.9961977 , 0.98436812, 0.99176159,\n",
              "       0.97690426, 0.97584799, 0.96824339, 0.96437061, 0.96507468,\n",
              "       0.96810253, 0.96070906, 0.91219391, 0.90240639, 0.88592957,\n",
              "       0.88078929, 0.91163059, 0.90867322, 0.9160667 , 0.91184182,\n",
              "       0.91416549, 0.89804077, 0.89135136, 0.93324769, 0.9538789 ,\n",
              "       0.97028534, 0.97936868, 0.97458059, 0.97225692, 0.9599345 ,\n",
              "       0.95507593, 0.92909319, 0.90346256, 0.92078441, 0.91367265,\n",
              "       0.92655829, 0.93796541, 0.93873997, 0.93106488, 0.93479681,\n",
              "       0.92282637, 0.90796904, 0.90170221, 0.89966025, 0.88874609,\n",
              "       0.88346505, 0.88881657, 0.90325132, 0.89022482, 0.88064853,\n",
              "       0.89099938, 0.88247926, 0.87776154])"
            ]
          },
          "execution_count": 42,
          "metadata": {},
          "output_type": "execute_result"
        }
      ],
      "source": [
        "y_test"
      ]
    },
    {
      "cell_type": "code",
      "execution_count": 43,
      "metadata": {
        "colab": {
          "base_uri": "https://localhost:8080/"
        },
        "id": "fvhJhdHLMTbL",
        "outputId": "314ada28-c8e3-42d7-df40-c3fa0c26bb8c"
      },
      "outputs": [
        {
          "data": {
            "text/plain": [
              "array([[0.24756983],\n",
              "       [0.2501026 ],\n",
              "       [0.2527352 ],\n",
              "       [0.25554177],\n",
              "       [0.2585443 ],\n",
              "       [0.26176062],\n",
              "       [0.265198  ],\n",
              "       [0.2687924 ],\n",
              "       [0.27243364],\n",
              "       [0.2760622 ],\n",
              "       [0.27959922],\n",
              "       [0.28297043],\n",
              "       [0.2860024 ],\n",
              "       [0.28851566],\n",
              "       [0.29043567],\n",
              "       [0.29172927],\n",
              "       [0.29244357],\n",
              "       [0.2926932 ],\n",
              "       [0.29285997],\n",
              "       [0.29344988],\n",
              "       [0.29496926],\n",
              "       [0.2977743 ],\n",
              "       [0.30218622],\n",
              "       [0.3082456 ],\n",
              "       [0.3158546 ],\n",
              "       [0.32458183],\n",
              "       [0.33402133],\n",
              "       [0.34386915],\n",
              "       [0.3538279 ],\n",
              "       [0.3635826 ],\n",
              "       [0.37287837],\n",
              "       [0.3815077 ],\n",
              "       [0.38943553],\n",
              "       [0.39700207],\n",
              "       [0.40464613],\n",
              "       [0.41263333],\n",
              "       [0.42112705],\n",
              "       [0.43002748],\n",
              "       [0.43905988],\n",
              "       [0.44812122],\n",
              "       [0.45742032],\n",
              "       [0.46696287],\n",
              "       [0.47595263],\n",
              "       [0.48350132],\n",
              "       [0.48850954],\n",
              "       [0.49052984],\n",
              "       [0.48943335],\n",
              "       [0.48544428],\n",
              "       [0.47910953],\n",
              "       [0.47108307],\n",
              "       [0.4619204 ],\n",
              "       [0.45206714],\n",
              "       [0.44180802],\n",
              "       [0.4314675 ],\n",
              "       [0.421407  ],\n",
              "       [0.41182682],\n",
              "       [0.4028907 ],\n",
              "       [0.3948459 ],\n",
              "       [0.3880029 ],\n",
              "       [0.38259238],\n",
              "       [0.37880626],\n",
              "       [0.37677628],\n",
              "       [0.37635702],\n",
              "       [0.37741035],\n",
              "       [0.37959257],\n",
              "       [0.3825808 ],\n",
              "       [0.3860658 ],\n",
              "       [0.389859  ],\n",
              "       [0.39418763],\n",
              "       [0.39915875],\n",
              "       [0.4047608 ],\n",
              "       [0.4108316 ],\n",
              "       [0.41703275],\n",
              "       [0.42282897],\n",
              "       [0.42781174],\n",
              "       [0.43170074],\n",
              "       [0.43432102],\n",
              "       [0.435591  ],\n",
              "       [0.43554735],\n",
              "       [0.43440184],\n",
              "       [0.4322453 ],\n",
              "       [0.42931423],\n",
              "       [0.425674  ],\n",
              "       [0.42137465],\n",
              "       [0.4165519 ],\n",
              "       [0.4115314 ],\n",
              "       [0.40680707],\n",
              "       [0.4028565 ],\n",
              "       [0.39994374],\n",
              "       [0.39816344],\n",
              "       [0.3976327 ],\n",
              "       [0.39837727],\n",
              "       [0.40032604],\n",
              "       [0.4033662 ],\n",
              "       [0.407275  ],\n",
              "       [0.41168466],\n",
              "       [0.4162371 ],\n",
              "       [0.42055053],\n",
              "       [0.4241549 ],\n",
              "       [0.42675555],\n",
              "       [0.4282578 ],\n",
              "       [0.42873177],\n",
              "       [0.4284509 ],\n",
              "       [0.42790577],\n",
              "       [0.4275858 ],\n",
              "       [0.427858  ],\n",
              "       [0.42889836],\n",
              "       [0.43081513],\n",
              "       [0.43362397],\n",
              "       [0.4370949 ],\n",
              "       [0.44098443],\n",
              "       [0.44499943],\n",
              "       [0.44883153],\n",
              "       [0.4525546 ],\n",
              "       [0.45632395],\n",
              "       [0.46031722],\n",
              "       [0.46451652],\n",
              "       [0.46888992],\n",
              "       [0.47357553],\n",
              "       [0.4786198 ],\n",
              "       [0.4840303 ],\n",
              "       [0.49002257],\n",
              "       [0.49662557],\n",
              "       [0.5036403 ],\n",
              "       [0.51068777],\n",
              "       [0.5171542 ],\n",
              "       [0.5225817 ],\n",
              "       [0.52642596],\n",
              "       [0.52857995],\n",
              "       [0.52923787],\n",
              "       [0.5285528 ],\n",
              "       [0.52671456],\n",
              "       [0.524063  ],\n",
              "       [0.520856  ],\n",
              "       [0.51722616],\n",
              "       [0.51331776],\n",
              "       [0.5095019 ],\n",
              "       [0.5064101 ],\n",
              "       [0.50474894],\n",
              "       [0.505215  ],\n",
              "       [0.50824046],\n",
              "       [0.51388043],\n",
              "       [0.5215297 ],\n",
              "       [0.52998924],\n",
              "       [0.53818196],\n",
              "       [0.54532635],\n",
              "       [0.5508703 ],\n",
              "       [0.55475664],\n",
              "       [0.55711997],\n",
              "       [0.55820763],\n",
              "       [0.558252  ],\n",
              "       [0.5574442 ],\n",
              "       [0.5559551 ],\n",
              "       [0.55396795],\n",
              "       [0.55153954],\n",
              "       [0.54858434],\n",
              "       [0.5449947 ],\n",
              "       [0.5407531 ],\n",
              "       [0.5357497 ],\n",
              "       [0.5299498 ],\n",
              "       [0.5234197 ],\n",
              "       [0.51613224],\n",
              "       [0.5081522 ],\n",
              "       [0.49992934],\n",
              "       [0.4918787 ],\n",
              "       [0.48422515],\n",
              "       [0.4770228 ],\n",
              "       [0.47034082],\n",
              "       [0.4640243 ],\n",
              "       [0.45811775],\n",
              "       [0.4526877 ],\n",
              "       [0.44789696],\n",
              "       [0.4438657 ],\n",
              "       [0.44080073],\n",
              "       [0.43894523],\n",
              "       [0.43841553],\n",
              "       [0.4389912 ],\n",
              "       [0.44028765],\n",
              "       [0.44207963],\n",
              "       [0.4441625 ],\n",
              "       [0.44623658],\n",
              "       [0.44805974],\n",
              "       [0.4494994 ],\n",
              "       [0.4505125 ],\n",
              "       [0.45104265],\n",
              "       [0.4511792 ],\n",
              "       [0.4510953 ],\n",
              "       [0.4511129 ],\n",
              "       [0.45154396],\n",
              "       [0.45269567],\n",
              "       [0.45488915],\n",
              "       [0.45847645],\n",
              "       [0.4635242 ],\n",
              "       [0.47006312],\n",
              "       [0.4778043 ],\n",
              "       [0.48644292],\n",
              "       [0.49558735],\n",
              "       [0.5048484 ],\n",
              "       [0.51373446],\n",
              "       [0.5218142 ],\n",
              "       [0.52866507],\n",
              "       [0.5341338 ],\n",
              "       [0.53824794],\n",
              "       [0.5411126 ],\n",
              "       [0.5428283 ],\n",
              "       [0.5435134 ],\n",
              "       [0.5431905 ],\n",
              "       [0.5419748 ],\n",
              "       [0.53977156],\n",
              "       [0.5365499 ],\n",
              "       [0.5324682 ],\n",
              "       [0.52780426],\n",
              "       [0.5227015 ],\n",
              "       [0.51724476],\n",
              "       [0.51138496],\n",
              "       [0.5052186 ],\n",
              "       [0.4990344 ],\n",
              "       [0.49310493],\n",
              "       [0.48759285],\n",
              "       [0.4826025 ],\n",
              "       [0.47832507],\n",
              "       [0.47483677],\n",
              "       [0.47223777],\n",
              "       [0.4705673 ],\n",
              "       [0.46979645],\n",
              "       [0.46975613],\n",
              "       [0.47019863],\n",
              "       [0.47086367],\n",
              "       [0.4715745 ],\n",
              "       [0.47213894],\n",
              "       [0.47253788],\n",
              "       [0.47281924],\n",
              "       [0.473094  ],\n",
              "       [0.47348717],\n",
              "       [0.47403708],\n",
              "       [0.47479862],\n",
              "       [0.47597384],\n",
              "       [0.47768632],\n",
              "       [0.4800008 ],\n",
              "       [0.4829906 ],\n",
              "       [0.4865685 ],\n",
              "       [0.49066505],\n",
              "       [0.4952667 ],\n",
              "       [0.5002967 ],\n",
              "       [0.50559306],\n",
              "       [0.51092577],\n",
              "       [0.51615274],\n",
              "       [0.5212486 ],\n",
              "       [0.5262341 ],\n",
              "       [0.53112364],\n",
              "       [0.536057  ],\n",
              "       [0.54125917],\n",
              "       [0.54702204],\n",
              "       [0.55341876],\n",
              "       [0.56046104],\n",
              "       [0.5679838 ],\n",
              "       [0.5757797 ],\n",
              "       [0.5838102 ],\n",
              "       [0.59195906],\n",
              "       [0.59989065],\n",
              "       [0.6069612 ],\n",
              "       [0.6128284 ],\n",
              "       [0.617273  ],\n",
              "       [0.6203104 ],\n",
              "       [0.62219226],\n",
              "       [0.62324977],\n",
              "       [0.6236472 ],\n",
              "       [0.6233762 ],\n",
              "       [0.6224587 ],\n",
              "       [0.6209667 ],\n",
              "       [0.6189897 ],\n",
              "       [0.61676335],\n",
              "       [0.61450994],\n",
              "       [0.6124232 ],\n",
              "       [0.6105871 ],\n",
              "       [0.6090288 ],\n",
              "       [0.60771406],\n",
              "       [0.6066117 ],\n",
              "       [0.6058902 ],\n",
              "       [0.6057304 ],\n",
              "       [0.6063781 ],\n",
              "       [0.6079215 ],\n",
              "       [0.61006474],\n",
              "       [0.6124381 ],\n",
              "       [0.6147938 ],\n",
              "       [0.61705893],\n",
              "       [0.6192126 ],\n",
              "       [0.6211648 ],\n",
              "       [0.62277144],\n",
              "       [0.6239829 ],\n",
              "       [0.6250944 ],\n",
              "       [0.6263348 ],\n",
              "       [0.62789154],\n",
              "       [0.6299323 ],\n",
              "       [0.6325662 ],\n",
              "       [0.6359465 ],\n",
              "       [0.6400167 ],\n",
              "       [0.6445151 ],\n",
              "       [0.6487559 ],\n",
              "       [0.65212464],\n",
              "       [0.6540985 ],\n",
              "       [0.65444815],\n",
              "       [0.65317154],\n",
              "       [0.65028584],\n",
              "       [0.6457572 ],\n",
              "       [0.6397375 ],\n",
              "       [0.6326536 ],\n",
              "       [0.6250986 ],\n",
              "       [0.617666  ],\n",
              "       [0.61076856],\n",
              "       [0.60448456],\n",
              "       [0.59884906],\n",
              "       [0.59379756],\n",
              "       [0.58933544],\n",
              "       [0.58528125],\n",
              "       [0.581584  ],\n",
              "       [0.57830787],\n",
              "       [0.5756254 ],\n",
              "       [0.57367134],\n",
              "       [0.57251894],\n",
              "       [0.57209116],\n",
              "       [0.57221115],\n",
              "       [0.5728618 ],\n",
              "       [0.5741093 ],\n",
              "       [0.57609916],\n",
              "       [0.5790466 ],\n",
              "       [0.58309126],\n",
              "       [0.58823645],\n",
              "       [0.5942708 ],\n",
              "       [0.60085285],\n",
              "       [0.6076304 ],\n",
              "       [0.61422354],\n",
              "       [0.6205479 ],\n",
              "       [0.62638384],\n",
              "       [0.6314526 ],\n",
              "       [0.63559157],\n",
              "       [0.63882416],\n",
              "       [0.6412072 ],\n",
              "       [0.64284265],\n",
              "       [0.64378756],\n",
              "       [0.6441251 ],\n",
              "       [0.64375824],\n",
              "       [0.64260584],\n",
              "       [0.6408    ],\n",
              "       [0.6385515 ],\n",
              "       [0.63615954],\n",
              "       [0.63406485],\n",
              "       [0.63289833],\n",
              "       [0.6332865 ],\n",
              "       [0.63564736],\n",
              "       [0.6401311 ],\n",
              "       [0.6466316 ],\n",
              "       [0.65446496],\n",
              "       [0.6630291 ],\n",
              "       [0.672058  ],\n",
              "       [0.6813128 ],\n",
              "       [0.69046843],\n",
              "       [0.6990262 ],\n",
              "       [0.7067642 ],\n",
              "       [0.71391153],\n",
              "       [0.7209424 ],\n",
              "       [0.7281964 ],\n",
              "       [0.73608565],\n",
              "       [0.744594  ],\n",
              "       [0.75338733],\n",
              "       [0.7623091 ],\n",
              "       [0.7706419 ],\n",
              "       [0.77758837],\n",
              "       [0.7824216 ],\n",
              "       [0.78495157],\n",
              "       [0.78547657],\n",
              "       [0.78451073],\n",
              "       [0.7828733 ],\n",
              "       [0.78122735],\n",
              "       [0.78004444],\n",
              "       [0.7795001 ],\n",
              "       [0.7795458 ],\n",
              "       [0.78033364],\n",
              "       [0.78178966],\n",
              "       [0.7833811 ],\n",
              "       [0.78434336],\n",
              "       [0.7840905 ],\n",
              "       [0.7823328 ],\n",
              "       [0.77926683],\n",
              "       [0.7753173 ],\n",
              "       [0.7707342 ],\n",
              "       [0.7658262 ],\n",
              "       [0.7606728 ],\n",
              "       [0.75510705],\n",
              "       [0.74891555],\n",
              "       [0.7419019 ],\n",
              "       [0.73401046],\n",
              "       [0.72526574],\n",
              "       [0.7158612 ],\n",
              "       [0.7061007 ],\n",
              "       [0.6970645 ],\n",
              "       [0.6900401 ],\n",
              "       [0.6860355 ],\n",
              "       [0.685706  ],\n",
              "       [0.6890764 ],\n",
              "       [0.6957067 ],\n",
              "       [0.7048241 ],\n",
              "       [0.71569145],\n",
              "       [0.72763336],\n",
              "       [0.7397132 ],\n",
              "       [0.7507695 ],\n",
              "       [0.7598547 ],\n",
              "       [0.76665676],\n",
              "       [0.77117693],\n",
              "       [0.77333295],\n",
              "       [0.7730708 ],\n",
              "       [0.77032614],\n",
              "       [0.76496446],\n",
              "       [0.7572738 ],\n",
              "       [0.74791825],\n",
              "       [0.73769844],\n",
              "       [0.7272781 ],\n",
              "       [0.7174618 ],\n",
              "       [0.70891345],\n",
              "       [0.7019007 ],\n",
              "       [0.6962347 ],\n",
              "       [0.6914959 ],\n",
              "       [0.68766   ],\n",
              "       [0.6845    ],\n",
              "       [0.6815622 ],\n",
              "       [0.67820585],\n",
              "       [0.6742692 ],\n",
              "       [0.67013   ],\n",
              "       [0.6663557 ],\n",
              "       [0.6636648 ],\n",
              "       [0.66270316],\n",
              "       [0.6640383 ],\n",
              "       [0.6680051 ],\n",
              "       [0.6748253 ],\n",
              "       [0.6844313 ],\n",
              "       [0.69647765],\n",
              "       [0.71055925],\n",
              "       [0.72601926],\n",
              "       [0.7418637 ],\n",
              "       [0.75704944],\n",
              "       [0.770962  ],\n",
              "       [0.7829145 ],\n",
              "       [0.792137  ],\n",
              "       [0.7981683 ],\n",
              "       [0.8007338 ],\n",
              "       [0.79957724],\n",
              "       [0.7949369 ],\n",
              "       [0.7875502 ],\n",
              "       [0.7779839 ],\n",
              "       [0.7668555 ],\n",
              "       [0.75496507],\n",
              "       [0.7430916 ],\n",
              "       [0.7318735 ],\n",
              "       [0.7215209 ],\n",
              "       [0.71220136],\n",
              "       [0.70364213],\n",
              "       [0.69556236],\n",
              "       [0.68826246],\n",
              "       [0.6817591 ],\n",
              "       [0.67606485],\n",
              "       [0.6712979 ],\n",
              "       [0.66797423],\n",
              "       [0.6659683 ],\n",
              "       [0.6650182 ],\n",
              "       [0.6644757 ],\n",
              "       [0.66390955],\n",
              "       [0.66254413],\n",
              "       [0.65956974],\n",
              "       [0.65481496],\n",
              "       [0.64837575],\n",
              "       [0.6408134 ],\n",
              "       [0.6323179 ],\n",
              "       [0.6229226 ],\n",
              "       [0.61274695],\n",
              "       [0.602319  ],\n",
              "       [0.59210914],\n",
              "       [0.58255947],\n",
              "       [0.5742229 ],\n",
              "       [0.5678914 ],\n",
              "       [0.5641585 ],\n",
              "       [0.5633335 ],\n",
              "       [0.5655433 ],\n",
              "       [0.5702755 ],\n",
              "       [0.5768087 ],\n",
              "       [0.5845195 ],\n",
              "       [0.592775  ],\n",
              "       [0.60064065],\n",
              "       [0.60692835],\n",
              "       [0.61043763],\n",
              "       [0.6105349 ],\n",
              "       [0.60726005],\n",
              "       [0.6008347 ],\n",
              "       [0.5918318 ],\n",
              "       [0.58115673],\n",
              "       [0.56973934],\n",
              "       [0.558568  ],\n",
              "       [0.5487176 ],\n",
              "       [0.5410124 ],\n",
              "       [0.5357307 ],\n",
              "       [0.53292745],\n",
              "       [0.53228927],\n",
              "       [0.5334768 ],\n",
              "       [0.53626454],\n",
              "       [0.54048896],\n",
              "       [0.54614997],\n",
              "       [0.5532136 ],\n",
              "       [0.56136835],\n",
              "       [0.5702213 ],\n",
              "       [0.5792967 ],\n",
              "       [0.5883117 ],\n",
              "       [0.597141  ],\n",
              "       [0.6054596 ],\n",
              "       [0.6131978 ],\n",
              "       [0.6204586 ],\n",
              "       [0.627476  ],\n",
              "       [0.6343283 ],\n",
              "       [0.64088976],\n",
              "       [0.64685154],\n",
              "       [0.6522536 ],\n",
              "       [0.6572248 ],\n",
              "       [0.66217446],\n",
              "       [0.66738796],\n",
              "       [0.6728846 ],\n",
              "       [0.67888224],\n",
              "       [0.68547857],\n",
              "       [0.6925949 ],\n",
              "       [0.69997776],\n",
              "       [0.7072815 ],\n",
              "       [0.7144265 ],\n",
              "       [0.7213018 ],\n",
              "       [0.7279899 ],\n",
              "       [0.7346026 ],\n",
              "       [0.7411603 ],\n",
              "       [0.7476773 ],\n",
              "       [0.75405943],\n",
              "       [0.7599325 ],\n",
              "       [0.76460254],\n",
              "       [0.7674668 ],\n",
              "       [0.7681924 ],\n",
              "       [0.76691544],\n",
              "       [0.7635541 ],\n",
              "       [0.7580507 ],\n",
              "       [0.75039446],\n",
              "       [0.74069023],\n",
              "       [0.72931993],\n",
              "       [0.716722  ],\n",
              "       [0.7033652 ],\n",
              "       [0.6898744 ],\n",
              "       [0.6768198 ],\n",
              "       [0.66489804],\n",
              "       [0.6550517 ],\n",
              "       [0.64746535],\n",
              "       [0.6421208 ],\n",
              "       [0.63865924],\n",
              "       [0.6365353 ],\n",
              "       [0.6354746 ],\n",
              "       [0.63546467],\n",
              "       [0.6363236 ],\n",
              "       [0.6377646 ],\n",
              "       [0.6393473 ],\n",
              "       [0.64070827],\n",
              "       [0.64166963],\n",
              "       [0.64205086],\n",
              "       [0.64129627],\n",
              "       [0.63873506],\n",
              "       [0.63424134],\n",
              "       [0.62822795],\n",
              "       [0.6213434 ],\n",
              "       [0.614213  ],\n",
              "       [0.60705954],\n",
              "       [0.60002464],\n",
              "       [0.59314775],\n",
              "       [0.58644307],\n",
              "       [0.5802375 ],\n",
              "       [0.57462   ],\n",
              "       [0.569857  ],\n",
              "       [0.56626916],\n",
              "       [0.56409687],\n",
              "       [0.56342113],\n",
              "       [0.56441605],\n",
              "       [0.5672666 ],\n",
              "       [0.57214427],\n",
              "       [0.5788655 ],\n",
              "       [0.5867058 ],\n",
              "       [0.5954864 ],\n",
              "       [0.60497   ],\n",
              "       [0.6146719 ],\n",
              "       [0.6236663 ],\n",
              "       [0.6306654 ],\n",
              "       [0.63466537],\n",
              "       [0.6352339 ],\n",
              "       [0.6324661 ],\n",
              "       [0.62654126],\n",
              "       [0.6185719 ],\n",
              "       [0.6099839 ],\n",
              "       [0.6019932 ],\n",
              "       [0.595594  ],\n",
              "       [0.5913748 ],\n",
              "       [0.5896745 ],\n",
              "       [0.5905621 ],\n",
              "       [0.5936304 ],\n",
              "       [0.5984122 ],\n",
              "       [0.6044276 ],\n",
              "       [0.61098003],\n",
              "       [0.6171335 ],\n",
              "       [0.6218966 ],\n",
              "       [0.6250206 ],\n",
              "       [0.626611  ],\n",
              "       [0.6269177 ],\n",
              "       [0.6261775 ],\n",
              "       [0.62439716],\n",
              "       [0.6214835 ],\n",
              "       [0.61753047],\n",
              "       [0.6127216 ],\n",
              "       [0.60745853],\n",
              "       [0.60223556],\n",
              "       [0.5973605 ],\n",
              "       [0.5926304 ],\n",
              "       [0.5876626 ],\n",
              "       [0.5820627 ],\n",
              "       [0.57561827],\n",
              "       [0.5684966 ],\n",
              "       [0.56086713],\n",
              "       [0.5529412 ],\n",
              "       [0.5448774 ],\n",
              "       [0.5366584 ],\n",
              "       [0.5284666 ],\n",
              "       [0.5205688 ],\n",
              "       [0.5130059 ],\n",
              "       [0.5058477 ],\n",
              "       [0.49911806],\n",
              "       [0.49306694],\n",
              "       [0.48799706],\n",
              "       [0.48420033],\n",
              "       [0.48200503],\n",
              "       [0.48161674],\n",
              "       [0.48315707],\n",
              "       [0.4866406 ],\n",
              "       [0.49186426],\n",
              "       [0.49846432],\n",
              "       [0.50613356],\n",
              "       [0.5147325 ],\n",
              "       [0.5241734 ],\n",
              "       [0.5342375 ],\n",
              "       [0.5447311 ],\n",
              "       [0.5555172 ],\n",
              "       [0.56619877],\n",
              "       [0.57639766],\n",
              "       [0.58583236],\n",
              "       [0.59462875],\n",
              "       [0.60316044],\n",
              "       [0.611584  ],\n",
              "       [0.62005496],\n",
              "       [0.628411  ],\n",
              "       [0.6362786 ],\n",
              "       [0.64326525],\n",
              "       [0.6492381 ],\n",
              "       [0.65411603],\n",
              "       [0.65802   ],\n",
              "       [0.66099405],\n",
              "       [0.66300106],\n",
              "       [0.6637418 ],\n",
              "       [0.6630169 ],\n",
              "       [0.66082096],\n",
              "       [0.65714896],\n",
              "       [0.6522049 ],\n",
              "       [0.6462816 ],\n",
              "       [0.63962495],\n",
              "       [0.6325355 ],\n",
              "       [0.6256525 ],\n",
              "       [0.6197622 ],\n",
              "       [0.61537826],\n",
              "       [0.6128534 ],\n",
              "       [0.6121634 ],\n",
              "       [0.6129357 ],\n",
              "       [0.61481476],\n",
              "       [0.6175866 ],\n",
              "       [0.6210834 ],\n",
              "       [0.62531143],\n",
              "       [0.6302022 ],\n",
              "       [0.63576484],\n",
              "       [0.6420443 ],\n",
              "       [0.6488937 ],\n",
              "       [0.6561216 ],\n",
              "       [0.6635579 ],\n",
              "       [0.67084765],\n",
              "       [0.67756236],\n",
              "       [0.68354344],\n",
              "       [0.6888331 ],\n",
              "       [0.6936798 ],\n",
              "       [0.6983813 ],\n",
              "       [0.7031009 ],\n",
              "       [0.70773125],\n",
              "       [0.712124  ],\n",
              "       [0.7159145 ],\n",
              "       [0.71867585],\n",
              "       [0.7200484 ],\n",
              "       [0.72024024],\n",
              "       [0.71959114],\n",
              "       [0.71846116],\n",
              "       [0.7172481 ],\n",
              "       [0.71634376],\n",
              "       [0.7159536 ],\n",
              "       [0.7160264 ],\n",
              "       [0.71643543],\n",
              "       [0.71691275],\n",
              "       [0.7172086 ],\n",
              "       [0.71747386],\n",
              "       [0.71800876],\n",
              "       [0.719062  ],\n",
              "       [0.7206942 ],\n",
              "       [0.72276247],\n",
              "       [0.724926  ],\n",
              "       [0.7273742 ],\n",
              "       [0.73032737],\n",
              "       [0.73380697],\n",
              "       [0.7378291 ],\n",
              "       [0.7423297 ],\n",
              "       [0.7470715 ],\n",
              "       [0.7517195 ],\n",
              "       [0.7559432 ],\n",
              "       [0.7595179 ],\n",
              "       [0.76247466],\n",
              "       [0.7649131 ],\n",
              "       [0.7668623 ],\n",
              "       [0.7681334 ],\n",
              "       [0.76857495],\n",
              "       [0.7682041 ],\n",
              "       [0.76730394],\n",
              "       [0.76632357],\n",
              "       [0.7656516 ],\n",
              "       [0.7657294 ],\n",
              "       [0.76689184],\n",
              "       [0.7691921 ],\n",
              "       [0.77246785],\n",
              "       [0.7763238 ],\n",
              "       [0.78051615],\n",
              "       [0.78484654],\n",
              "       [0.7893168 ],\n",
              "       [0.7938895 ],\n",
              "       [0.79851925],\n",
              "       [0.8032415 ],\n",
              "       [0.8079623 ],\n",
              "       [0.81252587],\n",
              "       [0.8166635 ],\n",
              "       [0.82034516],\n",
              "       [0.82354903],\n",
              "       [0.8261447 ],\n",
              "       [0.8282213 ],\n",
              "       [0.8299742 ],\n",
              "       [0.83159184],\n",
              "       [0.8334832 ],\n",
              "       [0.8358455 ],\n",
              "       [0.83863735],\n",
              "       [0.8417231 ],\n",
              "       [0.8448094 ],\n",
              "       [0.8474226 ],\n",
              "       [0.8491175 ],\n",
              "       [0.84974205],\n",
              "       [0.8493768 ],\n",
              "       [0.8482199 ],\n",
              "       [0.846753  ],\n",
              "       [0.84540534],\n",
              "       [0.8445898 ],\n",
              "       [0.8444278 ],\n",
              "       [0.8447982 ],\n",
              "       [0.84555805],\n",
              "       [0.846611  ],\n",
              "       [0.84792686],\n",
              "       [0.84936476],\n",
              "       [0.8509736 ],\n",
              "       [0.8528397 ],\n",
              "       [0.85493255],\n",
              "       [0.8569207 ],\n",
              "       [0.8583615 ],\n",
              "       [0.8582014 ],\n",
              "       [0.8554678 ],\n",
              "       [0.8497685 ],\n",
              "       [0.84112394],\n",
              "       [0.8299655 ],\n",
              "       [0.8170054 ],\n",
              "       [0.8032279 ],\n",
              "       [0.7894995 ],\n",
              "       [0.77653396],\n",
              "       [0.7647649 ],\n",
              "       [0.7545383 ],\n",
              "       [0.74619746],\n",
              "       [0.7400714 ],\n",
              "       [0.7365705 ],\n",
              "       [0.7356318 ],\n",
              "       [0.7371236 ],\n",
              "       [0.74085915],\n",
              "       [0.74675405],\n",
              "       [0.7547895 ],\n",
              "       [0.7647922 ],\n",
              "       [0.77647614],\n",
              "       [0.78940177],\n",
              "       [0.80249655],\n",
              "       [0.81419647],\n",
              "       [0.82325447],\n",
              "       [0.829033  ],\n",
              "       [0.83114314],\n",
              "       [0.8294934 ],\n",
              "       [0.8244777 ],\n",
              "       [0.81672287],\n",
              "       [0.80721366],\n",
              "       [0.79703295],\n",
              "       [0.7869127 ],\n",
              "       [0.77730775],\n",
              "       [0.76859975],\n",
              "       [0.7611625 ],\n",
              "       [0.75498104],\n",
              "       [0.7498361 ],\n",
              "       [0.7455169 ],\n",
              "       [0.7419039 ],\n",
              "       [0.7391114 ],\n",
              "       [0.7371868 ],\n",
              "       [0.73622406],\n",
              "       [0.736361  ],\n",
              "       [0.73781264],\n",
              "       [0.74076176],\n",
              "       [0.7451879 ],\n",
              "       [0.7509788 ],\n",
              "       [0.7579354 ],\n",
              "       [0.7656281 ],\n",
              "       [0.7735367 ],\n",
              "       [0.781018  ],\n",
              "       [0.78740823],\n",
              "       [0.7921815 ],\n",
              "       [0.7948413 ],\n",
              "       [0.7951646 ],\n",
              "       [0.79325664],\n",
              "       [0.7892823 ],\n",
              "       [0.7832818 ],\n",
              "       [0.77554655],\n",
              "       [0.76666903],\n",
              "       [0.757355  ],\n",
              "       [0.7485062 ],\n",
              "       [0.7411128 ],\n",
              "       [0.73587143],\n",
              "       [0.7333298 ],\n",
              "       [0.73385656],\n",
              "       [0.73754287],\n",
              "       [0.7441238 ],\n",
              "       [0.75329924],\n",
              "       [0.7644813 ],\n",
              "       [0.77708364],\n",
              "       [0.7904662 ],\n",
              "       [0.8040619 ],\n",
              "       [0.8173132 ],\n",
              "       [0.8298106 ],\n",
              "       [0.8411355 ],\n",
              "       [0.85097575],\n",
              "       [0.85897946],\n",
              "       [0.8648844 ],\n",
              "       [0.8686063 ],\n",
              "       [0.87013483],\n",
              "       [0.8696325 ],\n",
              "       [0.86748457],\n",
              "       [0.8639959 ],\n",
              "       [0.8597877 ],\n",
              "       [0.8553698 ],\n",
              "       [0.8512919 ],\n",
              "       [0.848066  ],\n",
              "       [0.8458457 ],\n",
              "       [0.84472597],\n",
              "       [0.8449006 ],\n",
              "       [0.84644485],\n",
              "       [0.8492447 ],\n",
              "       [0.85292447],\n",
              "       [0.8571135 ],\n",
              "       [0.86127245],\n",
              "       [0.86490536],\n",
              "       [0.8675618 ],\n",
              "       [0.86892736],\n",
              "       [0.8688898 ],\n",
              "       [0.86754954],\n",
              "       [0.86505854],\n",
              "       [0.86113   ],\n",
              "       [0.85552776],\n",
              "       [0.84810054],\n",
              "       [0.83893347],\n",
              "       [0.828686  ],\n",
              "       [0.81813776],\n",
              "       [0.80813944],\n",
              "       [0.79938793],\n",
              "       [0.7924155 ],\n",
              "       [0.7873888 ],\n",
              "       [0.7842152 ],\n",
              "       [0.7830678 ],\n",
              "       [0.784215  ],\n",
              "       [0.787899  ],\n",
              "       [0.7941861 ],\n",
              "       [0.8028189 ],\n",
              "       [0.81328046],\n",
              "       [0.8247583 ],\n",
              "       [0.83631694],\n",
              "       [0.84677327],\n",
              "       [0.8548598 ],\n",
              "       [0.85994697],\n",
              "       [0.86179507],\n",
              "       [0.8606919 ],\n",
              "       [0.85730064],\n",
              "       [0.8523929 ],\n",
              "       [0.8466377 ],\n",
              "       [0.8406526 ],\n",
              "       [0.8348191 ],\n",
              "       [0.82925034],\n",
              "       [0.8239348 ],\n",
              "       [0.8188462 ],\n",
              "       [0.813889  ],\n",
              "       [0.8089783 ],\n",
              "       [0.8041723 ],\n",
              "       [0.79975295],\n",
              "       [0.79589057],\n",
              "       [0.7926136 ],\n",
              "       [0.79002213],\n",
              "       [0.7881098 ]], dtype=float32)"
            ]
          },
          "execution_count": 43,
          "metadata": {},
          "output_type": "execute_result"
        }
      ],
      "source": [
        "y_pred"
      ]
    },
    {
      "cell_type": "code",
      "execution_count": 44,
      "metadata": {
        "colab": {
          "base_uri": "https://localhost:8080/"
        },
        "id": "mw01L8IWMV1Q",
        "outputId": "ba7827b8-de5a-4492-dd3a-4c77a116fd7e"
      },
      "outputs": [
        {
          "data": {
            "text/plain": [
              "array([0.00704139])"
            ]
          },
          "execution_count": 44,
          "metadata": {},
          "output_type": "execute_result"
        }
      ],
      "source": [
        "scaler.scale_"
      ]
    },
    {
      "cell_type": "code",
      "execution_count": 45,
      "metadata": {
        "id": "a7ZfnaalMZJE"
      },
      "outputs": [],
      "source": [
        "scale_factor = 1/0.00704139\n",
        "y_test = y_test * scale_factor\n",
        "y_pred = y_pred * scale_factor"
      ]
    },
    {
      "cell_type": "code",
      "execution_count": 46,
      "metadata": {
        "colab": {
          "base_uri": "https://localhost:8080/",
          "height": 354
        },
        "id": "WxfDji6LNbRo",
        "outputId": "8a7987e7-3d58-49b7-de69-e53f7e314a2e"
      },
      "outputs": [
        {
          "data": {
            "image/png": "[encoded data removed]",
            "text/plain": [
              "<Figure size 1200x600 with 1 Axes>"
            ]
          },
          "metadata": {},
          "output_type": "display_data"
        }
      ],
      "source": [
        "plt.figure(figsize=(12,6))\n",
        "plt.plot(y_test, color='blue', label='Real Stock Price')\n",
        "plt.plot(y_pred, color='red', label='Predicted Stock Price')\n",
        "plt.xlabel('Time')\n",
        "plt.ylabel('Stock Price')\n",
        "plt.legend()\n",
        "plt.show()"
      ]
    },
    {
      "cell_type": "code",
      "execution_count": null,
      "metadata": {},
      "outputs": [],
      "source": []
    }
  ],
  "metadata": {
    "colab": {
      "authorship_tag": "ABX9TyMIARUqe2mKu8xAouUzworj",
      "provenance": []
    },
    "kernelspec": {
      "display_name": "Python 3",
      "name": "python3"
    },
    "language_info": {
      "codemirror_mode": {
        "name": "ipython",
        "version": 3
      },
      "file_extension": ".py",
      "mimetype": "text/x-python",
      "name": "python",
      "nbconvert_exporter": "python",
      "pygments_lexer": "ipython3",
      "version": "3.12.2"
    }
  },
  "nbformat": 4,
  "nbformat_minor": 0
}
